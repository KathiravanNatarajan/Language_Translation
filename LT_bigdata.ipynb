{
 "cells": [
  {
   "cell_type": "code",
   "execution_count": 13,
   "metadata": {
    "collapsed": false
   },
   "outputs": [
    {
     "name": "stdout",
     "output_type": "stream",
     "text": [
      "17\n",
      "[[4, 5, 6, 7, 8, 4, 9, 5, 10, 11, 1], [5, 13, 14, 15, 4, 1]]\n",
      "17\n",
      "[[4, 15, 8, 5, 7, 4, 11, 15, 16, 9, 14], [15, 10, 12, 13, 4, 6]]\n"
     ]
    }
   ],
   "source": [
    "\n",
    "import numpy as np \n",
    "import copy\n",
    "import pickle\n",
    "CODES = {'<PAD>': 0, '<EOS>': 1, '<UNK>': 2, '<GO>': 3 }\n",
    "source_filename = \"textfile.txt\"\n",
    "source_vocab_to_int = copy.copy(CODES)\n",
    "counter = 4\n",
    "with open(source_filename, encoding='utf-8') as infile:\n",
    "    for line in infile:\n",
    "        line = line.lower()\n",
    "        for word in line.split():\n",
    "            if word in source_vocab_to_int:  \n",
    "                continue  \n",
    "            else:   \n",
    "                source_vocab_to_int[word] = counter\n",
    "                counter += 1\n",
    "print(len(source_vocab_to_int))\n",
    "source_int_text = []\n",
    "with open(source_filename, encoding='utf-8') as infile2:\n",
    "        for line2 in infile2:\n",
    "            line2 = line2.lower()\n",
    "            new_list = []\n",
    "            for word in line2.split():\n",
    "                new_list.append(source_vocab_to_int[word])\n",
    "            new_list[-1] = source_vocab_to_int['<EOS>']\n",
    "            source_int_text.append(new_list)\n",
    "print(source_int_text)\n",
    "\n",
    "with open(source_filename, encoding='utf-8') as infile:\n",
    "    source_text = infile.read()\n",
    "    vocab = set(source_text.split())\n",
    "    vocab_to_int = copy.copy(CODES)\n",
    "\n",
    "    for v_i, v in enumerate(vocab, len(CODES)):\n",
    "        vocab_to_int[v] = v_i\n",
    "\n",
    "    int_to_vocab = {v_i: v for v, v_i in vocab_to_int.items()}\n",
    "\n",
    "    print(len(vocab_to_int))\n",
    "    source_id_text = [[vocab_to_int[word] for word in sentence.split()] for sentence in source_text.split('\\n')] \n",
    "    print(source_id_text)\n"
   ]
  },
  {
   "cell_type": "code",
   "execution_count": 23,
   "metadata": {
    "collapsed": false
   },
   "outputs": [],
   "source": [
    "import numpy as np \n",
    "import copy\n",
    "import pickle\n",
    "def source_text_to_int(source_filename):\n",
    "    CODES = {'<PAD>': 0, '<EOS>': 1, '<UNK>': 2, '<GO>': 3 }\n",
    "    source_vocab_to_int = copy.copy(CODES)\n",
    "    counter = 4\n",
    "    with open(source_filename, encoding='utf-8') as infile:\n",
    "        for line in infile:\n",
    "            line = line.lower()\n",
    "            for word in line.split():\n",
    "                if word in source_vocab_to_int:  \n",
    "                    continue  \n",
    "                else:   \n",
    "                    source_vocab_to_int[word] = counter\n",
    "                    counter += 1\n",
    "    pickle.dump(source_vocab_to_int, open( \"source_vocab_to_int.pkl\", \"wb\" ) )\n",
    "    source_vocab_to_int = pickle.load( open( \"source_vocab_to_int.pkl\", \"rb\" ) )\n",
    "    source_int_text = []\n",
    "    with open(source_filename, encoding='utf-8') as infile2:\n",
    "        for line2 in infile2:\n",
    "            line2 = line2.lower()\n",
    "            new_list = []\n",
    "            for word in line2.split():\n",
    "                new_list.append(source_vocab_to_int[word])\n",
    "            source_int_text.append(new_list)\n",
    "    pickle.dump((source_int_text,source_vocab_to_int), open( \"source_int_txt.pkl\", \"wb\" ) )\n",
    "    source_int_text, source_vocab_to_int = pickle.load(open(\"source_int_txt.pkl\", \"rb\"))\n",
    "    return source_int_text, source_vocab_to_int"
   ]
  },
  {
   "cell_type": "code",
   "execution_count": 26,
   "metadata": {
    "collapsed": false
   },
   "outputs": [],
   "source": [
    "def target_text_to_int(target_filename):\n",
    "    CODES = {'<PAD>': 0, '<EOS>': 1, '<UNK>': 2, '<GO>': 3 }\n",
    "    target_vocab_to_int = copy.copy(CODES)\n",
    "    counter = 4\n",
    "    with open(target_filename, encoding='utf-8') as infile:\n",
    "        for line in infile:\n",
    "            line = line.lower()\n",
    "            for word in line.split():\n",
    "                if word in target_vocab_to_int:  \n",
    "                    continue  \n",
    "                else:   \n",
    "                    target_vocab_to_int[word] = counter\n",
    "                    counter += 1\n",
    "    pickle.dump(target_vocab_to_int, open( \"target_vocab_to_int.pkl\", \"wb\" ) )\n",
    "    target_int_text =[]\n",
    "    target_vocab_to_int = pickle.load( open( \"target_vocab_to_int.pkl\", \"rb\" ) )\n",
    "    with open(target_filename, encoding='utf-8') as infile2:\n",
    "        for line2 in infile2:\n",
    "            line2 = line2.lower()\n",
    "            new_list = [] \n",
    "            for word2 in line2.split():\n",
    "                new_list.append(source_vocab_to_int[word])\n",
    "            new_list[-1] = target_vocab_to_int['<EOS>']\n",
    "            target_int_text.append(new_list)\n",
    "    pickle.dump((target_int_text,target_vocab_to_int), open( \"target_int_txt.pkl\", \"wb\" ) )\n",
    "    target_int_text, target_vocab_to_int = pickle.load(open(\"target_int_txt.pkl\", \"rb\"))\n",
    "    return target_int_text, target_vocab_to_int"
   ]
  },
  {
   "cell_type": "code",
   "execution_count": null,
   "metadata": {
    "collapsed": true
   },
   "outputs": [],
   "source": []
  }
 ],
 "metadata": {
  "anaconda-cloud": {},
  "kernelspec": {
   "display_name": "Python [conda env:tensorflow1.0-cpu]",
   "language": "python",
   "name": "conda-env-tensorflow1.0-cpu-py"
  },
  "language_info": {
   "codemirror_mode": {
    "name": "ipython",
    "version": 3
   },
   "file_extension": ".py",
   "mimetype": "text/x-python",
   "name": "python",
   "nbconvert_exporter": "python",
   "pygments_lexer": "ipython3",
   "version": "3.5.5"
  }
 },
 "nbformat": 4,
 "nbformat_minor": 1
}

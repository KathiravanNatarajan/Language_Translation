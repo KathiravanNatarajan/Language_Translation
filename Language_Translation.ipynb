{
 "cells": [
  {
   "cell_type": "markdown",
   "metadata": {
    "collapsed": true,
    "deletable": true,
    "editable": true
   },
   "source": [
    "# Language Translation\n",
    "In this project, A sequence to sequence model on a dataset of English and French sentences will be trained that can translate new sentences from English to French.\n",
    "## Getting the Data\n",
    "Since translating the whole language of English to French will take lots of time to train, I have used a small portion of the English corpus."
   ]
  },
  {
   "cell_type": "code",
   "execution_count": 1,
   "metadata": {
    "collapsed": false,
    "deletable": true,
    "editable": true
   },
   "outputs": [],
   "source": [
    "import helper\n",
    "import problem_unittests as tests\n",
    "\n",
    "source_path = 'data/translation_datasets/train.en'\n",
    "target_path = 'data/translation_datasets/train.vi'\n",
    "\n",
    "\n",
    "source_text = helper.load_data(source_path)\n",
    "target_text = helper.load_data(target_path)"
   ]
  },
  {
   "cell_type": "markdown",
   "metadata": {
    "deletable": true,
    "editable": true
   },
   "source": [
    "## Exploring the Data\n",
    "Play around with view_sentence_range to view different parts of the data."
   ]
  },
  {
   "cell_type": "code",
   "execution_count": 2,
   "metadata": {
    "collapsed": false,
    "deletable": true,
    "editable": true
   },
   "outputs": [
    {
     "name": "stdout",
     "output_type": "stream",
     "text": [
      "Dataset Stats\n",
      "Roughly the number of unique words: 54169\n",
      "Number of sentences: 133318\n",
      "Average number of words in a sentence: 20.29924691339504\n",
      "\n",
      "English sentences 0 to 10:\n",
      "Rachel Pike : The science behind a climate headline\n",
      "In 4 minutes , atmospheric chemist Rachel Pike provides a glimpse of the massive scientific effort behind the bold headlines on climate change , with her team -- one of thousands who contributed -- taking a risky flight over the rainforest in pursuit of data on a key molecule .\n",
      "I &apos;d like to talk to you today about the scale of the scientific effort that goes into making the headlines you see in the paper .\n",
      "Headlines that look like this when they have to do with climate change , and headlines that look like this when they have to do with air quality or smog .\n",
      "They are both two branches of the same field of atmospheric science .\n",
      "Recently the headlines looked like this when the Intergovernmental Panel on Climate Change , or IPCC , put out their report on the state of understanding of the atmospheric system .\n",
      "That report was written by 620 scientists from 40 countries .\n",
      "They wrote almost a thousand pages on the topic .\n",
      "And all of those pages were reviewed by another 400-plus scientists and reviewers , from 113 countries .\n",
      "It &apos;s a big community . It &apos;s such a big community , in fact , that our annual gathering is the largest scientific meeting in the world .\n",
      "\n",
      "French sentences 0 to 10:\n",
      "Khoa học đằng sau một tiêu đề về khí hậu\n",
      "Trong 4 phút , chuyên gia hoá học khí quyển Rachel Pike giới thiệu sơ lược về những nỗ lực khoa học miệt mài đằng sau những tiêu đề táo bạo về biến đổi khí hậu , cùng với đoàn nghiên cứu của mình -- hàng ngàn người đã cống hiến cho dự án này -- một chuyến bay mạo hiểm qua rừng già để tìm kiếm thông tin về một phân tử then chốt .\n",
      "Tôi muốn cho các bạn biết về sự to lớn của những nỗ lực khoa học đã góp phần làm nên các dòng tít bạn thường thấy trên báo .\n",
      "Có những dòng trông như thế này khi bàn về biến đổi khí hậu , và như thế này khi nói về chất lượng không khí hay khói bụi .\n",
      "Cả hai đều là một nhánh của cùng một lĩnh vực trong ngành khoa học khí quyển .\n",
      "Các tiêu đề gần đây trông như thế này khi Ban Điều hành Biến đổi khí hậu Liên chính phủ , gọi tắt là IPCC đưa ra bài nghiên cứu của họ về hệ thống khí quyển .\n",
      "Nghiên cứu được viết bởi 620 nhà khoa học từ 40 quốc gia khác nhau .\n",
      "Họ viết gần 1000 trang về chủ đề này .\n",
      "Và tất cả các trang đều được xem xét bởi 400 khoa học gia và nhà phê bình khác từ 113 quốc gia .\n",
      "Đó là cả một cộng đồng lớn , lớn đến nỗi trên thực tế cuộc tụ hội hằng năm của chúng tôi là hội nghị khoa học &#91; tự nhiên &#93; lớn nhất thế giới .\n"
     ]
    }
   ],
   "source": [
    "view_sentence_range = (0, 10)\n",
    "\n",
    "\"\"\"\n",
    "DON'T MODIFY ANYTHING IN THIS CELL\n",
    "\"\"\"\n",
    "import numpy as np\n",
    "\n",
    "print('Dataset Stats')\n",
    "print('Roughly the number of unique words: {}'.format(len({word: None for word in source_text.split()})))\n",
    "\n",
    "sentences = source_text.split('\\n')\n",
    "word_counts = [len(sentence.split()) for sentence in sentences]\n",
    "print('Number of sentences: {}'.format(len(sentences)))\n",
    "print('Average number of words in a sentence: {}'.format(np.average(word_counts)))\n",
    "\n",
    "print()\n",
    "print('English sentences {} to {}:'.format(*view_sentence_range))\n",
    "print('\\n'.join(source_text.split('\\n')[view_sentence_range[0]:view_sentence_range[1]]))\n",
    "print()\n",
    "print('French sentences {} to {}:'.format(*view_sentence_range))\n",
    "print('\\n'.join(target_text.split('\\n')[view_sentence_range[0]:view_sentence_range[1]]))"
   ]
  },
  {
   "cell_type": "markdown",
   "metadata": {
    "deletable": true,
    "editable": true
   },
   "source": [
    "## Implement Preprocessing Function\n",
    "### Text to Word Ids\n",
    " In the function `text_to_ids()`, you'll turn `source_text` and `target_text` from words to ids. However, you need to add the `<EOS>` word id at the end of each sentence from `target_text`. This will help the neural network predict when the sentence should end.\n",
    "\n",
    "You can get the `<EOS>` word id by doing:\n",
    "```python\n",
    "target_vocab_to_int['<EOS>']\n",
    "```\n",
    "You can get other word ids using `source_vocab_to_int` and `target_vocab_to_int`."
   ]
  },
  {
   "cell_type": "code",
   "execution_count": 3,
   "metadata": {
    "collapsed": false,
    "deletable": true,
    "editable": true
   },
   "outputs": [
    {
     "name": "stdout",
     "output_type": "stream",
     "text": [
      "Tests Passed\n"
     ]
    }
   ],
   "source": [
    "def text_to_ids(source_text, target_text, source_vocab_to_int, target_vocab_to_int):\n",
    "    \"\"\"\n",
    "    Convert source and target text to proper word ids\n",
    "    :param source_text: String that contains all the source text.\n",
    "    :param target_text: String that contains all the target text.\n",
    "    :param source_vocab_to_int: Dictionary to go from the source words to an id\n",
    "    :param target_vocab_to_int: Dictionary to go from the target words to an id\n",
    "    :return: A tuple of lists (source_id_text, target_id_text)\n",
    "    \"\"\"\n",
    "    # TODO: Implement Function\n",
    "    source_id_text = [[source_vocab_to_int[word] for word in sentence.split()] for sentence in source_text.split('\\n')]   \n",
    "    target_id_text = [[target_vocab_to_int[word] for word in sentence.split()] + [target_vocab_to_int['<EOS>']] for sentence in target_text.split('\\n')]\n",
    "    return source_id_text, target_id_text\n",
    "\"\"\"\n",
    "DON'T MODIFY ANYTHING IN THIS CELL THAT IS BELOW THIS LINE\n",
    "\"\"\"\n",
    "tests.test_text_to_ids(text_to_ids)"
   ]
  },
  {
   "cell_type": "markdown",
   "metadata": {
    "deletable": true,
    "editable": true
   },
   "source": [
    "### Preprocess all the data and save it\n",
    "Running the code cell below will preprocess all the data and save it to file."
   ]
  },
  {
   "cell_type": "code",
   "execution_count": 4,
   "metadata": {
    "collapsed": false,
    "deletable": true,
    "editable": true
   },
   "outputs": [],
   "source": [
    "\"\"\"\n",
    "DON'T MODIFY ANYTHING IN THIS CELL\n",
    "\"\"\"\n",
    "helper.preprocess_and_save_data(source_path, target_path, text_to_ids)"
   ]
  },
  {
   "cell_type": "markdown",
   "metadata": {
    "deletable": true,
    "editable": true
   },
   "source": [
    "# Check Point\n",
    "This is your first checkpoint. If you ever decide to come back to this notebook or have to restart the notebook, you can start from here. The preprocessed data has been saved to disk."
   ]
  },
  {
   "cell_type": "code",
   "execution_count": 5,
   "metadata": {
    "collapsed": false,
    "deletable": true,
    "editable": true
   },
   "outputs": [],
   "source": [
    "\"\"\"\n",
    "DON'T MODIFY ANYTHING IN THIS CELL\n",
    "\"\"\"\n",
    "import numpy as np\n",
    "import helper\n",
    "\n",
    "(source_int_text, target_int_text), (source_vocab_to_int, target_vocab_to_int), _ = helper.load_preprocess()"
   ]
  },
  {
   "cell_type": "markdown",
   "metadata": {
    "deletable": true,
    "editable": true
   },
   "source": [
    "### Check the Version of TensorFlow and Access to GPU\n",
    "This will check to make sure you have the correct version of TensorFlow and access to a GPU"
   ]
  },
  {
   "cell_type": "code",
   "execution_count": 6,
   "metadata": {
    "collapsed": false
   },
   "outputs": [
    {
     "name": "stdout",
     "output_type": "stream",
     "text": [
      "9\n",
      "\n",
      "11\n"
     ]
    }
   ],
   "source": [
    "print(len(source_int_text[0]))\n",
    "print()\n",
    "print(len(target_int_text[0]))\n"
   ]
  },
  {
   "cell_type": "code",
   "execution_count": 7,
   "metadata": {
    "collapsed": false,
    "deletable": true,
    "editable": true
   },
   "outputs": [
    {
     "name": "stdout",
     "output_type": "stream",
     "text": [
      "TensorFlow Version: 1.0.0\n"
     ]
    },
    {
     "name": "stderr",
     "output_type": "stream",
     "text": [
      "C:\\Anaconda\\envs\\tensorflow1.0-cpu\\lib\\site-packages\\ipykernel\\__main__.py:14: UserWarning: No GPU found. Please use a GPU to train your neural network.\n"
     ]
    }
   ],
   "source": [
    "\"\"\"\n",
    "DON'T MODIFY ANYTHING IN THIS CELL\n",
    "\"\"\"\n",
    "from distutils.version import LooseVersion\n",
    "import warnings\n",
    "import tensorflow as tf\n",
    "\n",
    "# Check TensorFlow Version\n",
    "assert LooseVersion(tf.__version__) in [LooseVersion('1.0.0'), LooseVersion('1.0.1')], 'This project requires TensorFlow version 1.0  You are using {}'.format(tf.__version__)\n",
    "print('TensorFlow Version: {}'.format(tf.__version__))\n",
    "\n",
    "# Check for a GPU\n",
    "if not tf.test.gpu_device_name():\n",
    "    warnings.warn('No GPU found. Please use a GPU to train your neural network.')\n",
    "else:\n",
    "    print('Default GPU Device: {}'.format(tf.test.gpu_device_name()))"
   ]
  },
  {
   "cell_type": "markdown",
   "metadata": {
    "deletable": true,
    "editable": true
   },
   "source": [
    "## Build the Neural Network\n",
    "You'll build the components necessary to build a Sequence-to-Sequence model by implementing the following functions below:\n",
    "- `model_inputs`\n",
    "- `process_decoding_input`\n",
    "- `encoding_layer`\n",
    "- `decoding_layer_train`\n",
    "- `decoding_layer_infer`\n",
    "- `decoding_layer`\n",
    "- `seq2seq_model`\n",
    "\n",
    "### Input\n",
    "Implement the `model_inputs()` function to create TF Placeholders for the Neural Network. It should create the following placeholders:\n",
    "\n",
    "- Input text placeholder named \"input\" using the TF Placeholder name parameter with rank 2.\n",
    "- Targets placeholder with rank 2.\n",
    "- Learning rate placeholder with rank 0.\n",
    "- Keep probability placeholder named \"keep_prob\" using the TF Placeholder name parameter with rank 0.\n",
    "\n",
    "Return the placeholders in the following the tuple (Input, Targets, Learing Rate, Keep Probability)"
   ]
  },
  {
   "cell_type": "code",
   "execution_count": 8,
   "metadata": {
    "collapsed": false,
    "deletable": true,
    "editable": true
   },
   "outputs": [
    {
     "name": "stdout",
     "output_type": "stream",
     "text": [
      "Tests Passed\n"
     ]
    }
   ],
   "source": [
    "def model_inputs():\n",
    "    \"\"\"\n",
    "    Create TF Placeholders for input, targets, and learning rate.\n",
    "    :return: Tuple (input, targets, learning rate, keep probability)\n",
    "    \"\"\"\n",
    "    # TODO: Implement Function\n",
    "    inputs=tf.placeholder(tf.int32, shape=(None, None), name='input')\n",
    "    targets=tf.placeholder(tf.int32, shape=(None, None))\n",
    "    learning_rate=tf.placeholder(tf.float32)\n",
    "    keep_prob=tf.placeholder(tf.float32, name='keep_prob')\n",
    "    return inputs, targets, learning_rate, keep_prob\n",
    "\n",
    "\"\"\"\n",
    "DON'T MODIFY ANYTHING IN THIS CELL THAT IS BELOW THIS LINE\n",
    "\"\"\"\n",
    "tests.test_model_inputs(model_inputs)"
   ]
  },
  {
   "cell_type": "markdown",
   "metadata": {
    "deletable": true,
    "editable": true
   },
   "source": [
    "### Process Decoding Input\n",
    "Implement `process_decoding_input` using TensorFlow to remove the last word id from each batch in `target_data` and concat the GO ID to the beginning of each batch."
   ]
  },
  {
   "cell_type": "code",
   "execution_count": 9,
   "metadata": {
    "collapsed": false,
    "deletable": true,
    "editable": true
   },
   "outputs": [
    {
     "name": "stdout",
     "output_type": "stream",
     "text": [
      "[[ 3 10 20]\n",
      " [ 3 40 18]]\n",
      "Tests Passed\n"
     ]
    }
   ],
   "source": [
    "def process_decoding_input(target_data, target_vocab_to_int, batch_size):\n",
    "    \"\"\"\n",
    "    Preprocess target data for decoding\n",
    "    :param target_data: Target Placeholder\n",
    "    :param target_vocab_to_int: Dictionary to go from the target words to an id\n",
    "    :param batch_size: Batch Size\n",
    "    :return: Preprocessed target data\n",
    "    \"\"\"\n",
    "    # TODO: Implement Function\n",
    "    ending=tf.strided_slice(target_data, [0, 0], [batch_size, -1], [1, 1])\n",
    "    # concat the GO ID to the beginning of each batch\n",
    "    decoding_input=tf.concat([tf.fill([batch_size, 1], target_vocab_to_int['<GO>']), ending], 1)\n",
    "    return decoding_input\n",
    "\n",
    "\"\"\"\n",
    "DON'T MODIFY ANYTHING IN THIS CELL THAT IS BELOW THIS LINE\n",
    "\"\"\"\n",
    "tests.test_process_decoding_input(process_decoding_input)"
   ]
  },
  {
   "cell_type": "markdown",
   "metadata": {},
   "source": [
    "batch_size = 2\n",
    "seq_length = 3\n",
    "target_vocab_to_int = {'<GO>': 3}\n",
    "with tf.Graph().as_default():\n",
    "    target_data = tf.placeholder(tf.int32, [batch_size, seq_length])\n",
    "    dec_input = process_decoding_input(target_data, target_vocab_to_int, batch_size)\n",
    "\n",
    "    test_target_data = [[10, 20, 30], [40, 18, 23]]\n",
    "    with tf.Session() as sess:\n",
    "        test_dec_input = sess.run(dec_input, {target_data: test_target_data})\n",
    "        print(test_dec_input)"
   ]
  },
  {
   "cell_type": "markdown",
   "metadata": {
    "deletable": true,
    "editable": true
   },
   "source": [
    "### Encoding\n",
    "`encoding_layer()` creates a Encoder RNN layer using [`tf.nn.dynamic_rnn()`](https://www.tensorflow.org/api_docs/python/tf/nn/dynamic_rnn)."
   ]
  },
  {
   "cell_type": "code",
   "execution_count": null,
   "metadata": {
    "collapsed": false,
    "deletable": true,
    "editable": true
   },
   "outputs": [],
   "source": [
    "def encoding_layer(rnn_inputs, rnn_size, num_layers, keep_prob):\n",
    "    \"\"\"\n",
    "    Create encoding layer\n",
    "    :param rnn_inputs: Inputs for the RNN\n",
    "    :param rnn_size: RNN Size\n",
    "    :param num_layers: Number of layers\n",
    "    :param keep_prob: Dropout keep probability\n",
    "    :return: RNN state\n",
    "    \"\"\"\n",
    "    # TODO: Implement Function\n",
    "    lstm=tf.contrib.rnn.BasicLSTMCell(rnn_size)\n",
    "    lstm_drop=tf.contrib.rnn.DropoutWrapper(lstm, output_keep_prob=keep_prob)\n",
    "    rnn_cell=tf.contrib.rnn.MultiRNNCell([lstm_drop]*num_layers)\n",
    "    cell_outputs, cell_state=tf.nn.dynamic_rnn(rnn_cell, rnn_inputs, dtype=tf.float32)\n",
    "    return cell_state\n",
    "\n",
    "\"\"\"\n",
    "DON'T MODIFY ANYTHING IN THIS CELL THAT IS BELOW THIS LINE\n",
    "\"\"\"\n",
    "tests.test_encoding_layer(encoding_layer)"
   ]
  },
  {
   "cell_type": "markdown",
   "metadata": {
    "deletable": true,
    "editable": true
   },
   "source": [
    "### Decoding - Training\n",
    "Create training logits using [`tf.contrib.seq2seq.simple_decoder_fn_train()`](https://www.tensorflow.org/versions/r1.0/api_docs/python/tf/contrib/seq2seq/simple_decoder_fn_train) and [`tf.contrib.seq2seq.dynamic_rnn_decoder()`](https://www.tensorflow.org/versions/r1.0/api_docs/python/tf/contrib/seq2seq/dynamic_rnn_decoder).  Apply the `output_fn` to the [`tf.contrib.seq2seq.dynamic_rnn_decoder()`](https://www.tensorflow.org/versions/r1.0/api_docs/python/tf/contrib/seq2seq/dynamic_rnn_decoder) outputs."
   ]
  },
  {
   "cell_type": "code",
   "execution_count": 10,
   "metadata": {
    "collapsed": false,
    "deletable": true,
    "editable": true
   },
   "outputs": [
    {
     "name": "stdout",
     "output_type": "stream",
     "text": [
      "Tests Passed\n"
     ]
    }
   ],
   "source": [
    "def decoding_layer_train(encoder_state, dec_cell, dec_embed_input, sequence_length, decoding_scope,\n",
    "                         output_fn, keep_prob):\n",
    "    \"\"\"\n",
    "    Create a decoding layer for training\n",
    "    :param encoder_state: Encoder State\n",
    "    :param dec_cell: Decoder RNN Cell\n",
    "    :param dec_embed_input: Decoder embedded input\n",
    "    :param sequence_length: Sequence Length\n",
    "    :param decoding_scope: TenorFlow Variable Scope for decoding\n",
    "    :param output_fn: Function to apply the output layer\n",
    "    :param keep_prob: Dropout keep probability\n",
    "    :return: Train Logits\n",
    "    \"\"\"\n",
    "    # TODO: Implement Function\n",
    "    dec_fn=tf.contrib.seq2seq.simple_decoder_fn_train(encoder_state)\n",
    "    cell_dropout=tf.contrib.rnn.DropoutWrapper(dec_cell, keep_prob)\n",
    "    # tf.contrib.seq2seq.dynamic_rnn_decoder(cell, decoder_fn, inputs=None, sequence_length=None, parallel_iterations=None, swap_memory=False, time_major=False, scope=None, name=None)\n",
    "    # return: outputs-the RNN output 'Tensor'; final_state-The final state and will be shaped; final_context_state-The context state returned by the final call\n",
    "    rnn_outputs, _, _ =tf.contrib.seq2seq.dynamic_rnn_decoder(cell=cell_dropout, decoder_fn=dec_fn, inputs=dec_embed_input, sequence_length=sequence_length, scope=decoding_scope)\n",
    "    logits=output_fn(rnn_outputs)\n",
    "    return logits\n",
    "\n",
    "\n",
    "\"\"\"\n",
    "DON'T MODIFY ANYTHING IN THIS CELL THAT IS BELOW THIS LINE\n",
    "\"\"\"\n",
    "tests.test_decoding_layer_train(decoding_layer_train)"
   ]
  },
  {
   "cell_type": "markdown",
   "metadata": {
    "deletable": true,
    "editable": true
   },
   "source": [
    "### Decoding - Inference\n",
    "Create inference logits using [`tf.contrib.seq2seq.simple_decoder_fn_inference()`](https://www.tensorflow.org/versions/r1.0/api_docs/python/tf/contrib/seq2seq/simple_decoder_fn_inference) and [`tf.contrib.seq2seq.dynamic_rnn_decoder()`](https://www.tensorflow.org/versions/r1.0/api_docs/python/tf/contrib/seq2seq/dynamic_rnn_decoder). "
   ]
  },
  {
   "cell_type": "code",
   "execution_count": 11,
   "metadata": {
    "collapsed": false,
    "deletable": true,
    "editable": true
   },
   "outputs": [
    {
     "name": "stdout",
     "output_type": "stream",
     "text": [
      "Tests Passed\n"
     ]
    }
   ],
   "source": [
    "def decoding_layer_infer(encoder_state, dec_cell, dec_embeddings, start_of_sequence_id, end_of_sequence_id,\n",
    "                         maximum_length, vocab_size, decoding_scope, output_fn, keep_prob):\n",
    "    \"\"\"\n",
    "    Create a decoding layer for inference\n",
    "    :param encoder_state: Encoder state\n",
    "    :param dec_cell: Decoder RNN Cell\n",
    "    :param dec_embeddings: Decoder embeddings\n",
    "    :param start_of_sequence_id: GO ID\n",
    "    :param end_of_sequence_id: EOS Id\n",
    "    :param maximum_length: The maximum allowed time steps to decode\n",
    "    :param vocab_size: Size of vocabulary\n",
    "    :param decoding_scope: TensorFlow Variable Scope for decoding\n",
    "    :param output_fn: Function to apply the output layer\n",
    "    :param keep_prob: Dropout keep probability\n",
    "    :return: Inference Logits\n",
    "    \"\"\"\n",
    "    # TODO: Implement Function\n",
    "    dec_fn_infer=tf.contrib.seq2seq.simple_decoder_fn_inference(output_fn=output_fn, encoder_state=encoder_state, embeddings=dec_embeddings, start_of_sequence_id=start_of_sequence_id, end_of_sequence_id=end_of_sequence_id, maximum_length=maximum_length, num_decoder_symbols=vocab_size)\n",
    "    cell_dropout=tf.contrib.rnn.DropoutWrapper(dec_cell, keep_prob)\n",
    "    rnn_outputs_infer, _, _ =tf.contrib.seq2seq.dynamic_rnn_decoder(cell=cell_dropout, decoder_fn=dec_fn_infer, scope=decoding_scope)\n",
    "    rnn_outputs_infer_logits=rnn_outputs_infer\n",
    "    return rnn_outputs_infer_logits\n",
    "\n",
    "\n",
    "\"\"\"\n",
    "DON'T MODIFY ANYTHING IN THIS CELL THAT IS BELOW THIS LINE\n",
    "\"\"\"\n",
    "tests.test_decoding_layer_infer(decoding_layer_infer)"
   ]
  },
  {
   "cell_type": "markdown",
   "metadata": {
    "deletable": true,
    "editable": true
   },
   "source": [
    "### Build the Decoding Layer\n",
    "Implement `decoding_layer()` to create a Decoder RNN layer.\n",
    "\n",
    "- Create RNN cell for decoding using `rnn_size` and `num_layers`.\n",
    "- Create the output fuction using [`lambda`](https://docs.python.org/3/tutorial/controlflow.html#lambda-expressions) to transform it's input, logits, to class logits.\n",
    "- Use the your `decoding_layer_train(encoder_state, dec_cell, dec_embed_input, sequence_length, decoding_scope, output_fn, keep_prob)` function to get the training logits.\n",
    "- Use your `decoding_layer_infer(encoder_state, dec_cell, dec_embeddings, start_of_sequence_id, end_of_sequence_id, maximum_length, vocab_size, decoding_scope, output_fn, keep_prob)` function to get the inference logits.\n",
    "\n",
    "Note: You'll need to use [tf.variable_scope](https://www.tensorflow.org/api_docs/python/tf/variable_scope) to share variables between training and inference."
   ]
  },
  {
   "cell_type": "code",
   "execution_count": 12,
   "metadata": {
    "collapsed": false,
    "deletable": true,
    "editable": true
   },
   "outputs": [
    {
     "name": "stdout",
     "output_type": "stream",
     "text": [
      "Tests Passed\n"
     ]
    }
   ],
   "source": [
    "def decoding_layer(dec_embed_input, dec_embeddings, encoder_state, vocab_size, sequence_length, rnn_size,\n",
    "                   num_layers, target_vocab_to_int, keep_prob):\n",
    "    \"\"\"\n",
    "    Create decoding layer\n",
    "    :param dec_embed_input: Decoder embedded input\n",
    "    :param dec_embeddings: Decoder embeddings\n",
    "    :param encoder_state: The encoded state\n",
    "    :param vocab_size: Size of vocabulary\n",
    "    :param sequence_length: Sequence Length\n",
    "    :param rnn_size: RNN Size\n",
    "    :param num_layers: Number of layers\n",
    "    :param target_vocab_to_int: Dictionary to go from the target words to an id\n",
    "    :param keep_prob: Dropout keep probability\n",
    "    :return: Tuple of (Training Logits, Inference Logits)\n",
    "    \"\"\"\n",
    "    # TODO: Implement Function\n",
    "    lstm=tf.contrib.rnn.BasicLSTMCell(rnn_size)\n",
    "    lstm_dropout=tf.contrib.rnn.DropoutWrapper(lstm, output_keep_prob=keep_prob)\n",
    "    rnn_cell=tf.contrib.rnn.MultiRNNCell([lstm_dropout]*num_layers)\n",
    "    \n",
    "    # scope\n",
    "    with tf.variable_scope('decoding') as decoding_scope:\n",
    "        output_fn=lambda x: tf.contrib.layers.fully_connected(inputs=x, num_outputs=vocab_size, activation_fn=None, scope=decoding_scope)\n",
    "        train_logits=decoding_layer_train(encoder_state=encoder_state, dec_cell=rnn_cell, dec_embed_input=dec_embed_input, sequence_length=sequence_length, decoding_scope=decoding_scope, output_fn=output_fn, keep_prob=keep_prob)\n",
    "    with tf.variable_scope('decoding', reuse=True) as decoding_scope:\n",
    "        infer_logits=decoding_layer_infer(encoder_state=encoder_state, dec_cell=rnn_cell, dec_embeddings=dec_embeddings, start_of_sequence_id=target_vocab_to_int['<GO>'], end_of_sequence_id=target_vocab_to_int['<EOS>'], maximum_length=sequence_length-1, vocab_size=vocab_size, decoding_scope=decoding_scope, output_fn=output_fn, keep_prob=keep_prob)\n",
    "    \n",
    "    return train_logits, infer_logits\n",
    "\n",
    "\n",
    "\"\"\"\n",
    "DON'T MODIFY ANYTHING IN THIS CELL THAT IS BELOW THIS LINE\n",
    "\"\"\"\n",
    "tests.test_decoding_layer(decoding_layer)"
   ]
  },
  {
   "cell_type": "markdown",
   "metadata": {
    "deletable": true,
    "editable": true
   },
   "source": [
    "### Build the Neural Network\n",
    "Apply the functions you implemented above to:\n",
    "\n",
    "- Apply embedding to the input data for the encoder.\n",
    "- Encode the input using your `encoding_layer(rnn_inputs, rnn_size, num_layers, keep_prob)`.\n",
    "- Process target data using your `process_decoding_input(target_data, target_vocab_to_int, batch_size)` function.\n",
    "- Apply embedding to the target data for the decoder.\n",
    "- Decode the encoded input using your `decoding_layer(dec_embed_input, dec_embeddings, encoder_state, vocab_size, sequence_length, rnn_size, num_layers, target_vocab_to_int, keep_prob)`."
   ]
  },
  {
   "cell_type": "code",
   "execution_count": 13,
   "metadata": {
    "collapsed": false,
    "deletable": true,
    "editable": true
   },
   "outputs": [
    {
     "name": "stdout",
     "output_type": "stream",
     "text": [
      "Tests Passed\n"
     ]
    }
   ],
   "source": [
    "def seq2seq_model(input_data, target_data, keep_prob, batch_size, sequence_length, source_vocab_size, target_vocab_size,\n",
    "                  enc_embedding_size, dec_embedding_size, rnn_size, num_layers, target_vocab_to_int):\n",
    "    \"\"\"\n",
    "    Build the Sequence-to-Sequence part of the neural network\n",
    "    :param input_data: Input placeholder\n",
    "    :param target_data: Target placeholder\n",
    "    :param keep_prob: Dropout keep probability placeholder\n",
    "    :param batch_size: Batch Size\n",
    "    :param sequence_length: Sequence Length\n",
    "    :param source_vocab_size: Source vocabulary size\n",
    "    :param target_vocab_size: Target vocabulary size\n",
    "    :param enc_embedding_size: Decoder embedding size\n",
    "    :param dec_embedding_size: Encoder embedding size\n",
    "    :param rnn_size: RNN Size\n",
    "    :param num_layers: Number of layers\n",
    "    :param target_vocab_to_int: Dictionary to go from the target words to an id\n",
    "    :return: Tuple of (Training Logits, Inference Logits)\n",
    "    \"\"\"\n",
    "    # TODO: Implement Function\n",
    "    # embedding input\n",
    "    embeded_input=tf.contrib.layers.embed_sequence(ids=input_data, vocab_size=source_vocab_size, embed_dim=enc_embedding_size)\n",
    "    # Encodes the embeded input\n",
    "    enc_embeded_input=encoding_layer(rnn_inputs=embeded_input, rnn_size=rnn_size, num_layers=num_layers, keep_prob=keep_prob)\n",
    "    # Process target data\n",
    "    dec_target=process_decoding_input(target_data=target_data, target_vocab_to_int=target_vocab_to_int, batch_size=batch_size)\n",
    "    # Apply embedding to the target data for the decoder\n",
    "    dec_embed_size=tf.Variable(tf.random_uniform([target_vocab_size, dec_embedding_size]))\n",
    "    # params: A single tensor representing the complete embedding tensor, or a list of P tensors all of same shape except for the first dimension, representing sharded embedding tensors.\n",
    "    # ids: A Tensor with type int32 or int64 containing the ids to be looked up in params.\n",
    "    # return A Tensor with the same type as the tensors in params.\n",
    "    dec_embeded_target=tf.nn.embedding_lookup(params=dec_embed_size ,ids=dec_target)\n",
    "    # Decode the encoded input\n",
    "    train_logits, infer_logits = decoding_layer(dec_embed_input=dec_embeded_target,\n",
    "                                                dec_embeddings=dec_embed_size,\n",
    "                                                encoder_state = enc_embeded_input,\n",
    "                                                vocab_size=target_vocab_size,\n",
    "                                                sequence_length=sequence_length,\n",
    "                                                rnn_size=rnn_size,\n",
    "                                                num_layers=num_layers,\n",
    "                                                target_vocab_to_int=target_vocab_to_int,\n",
    "                                                keep_prob=keep_prob)\n",
    "    return train_logits, infer_logits\n",
    "\n",
    "\n",
    "\"\"\"\n",
    "DON'T MODIFY ANYTHING IN THIS CELL THAT IS BELOW THIS LINE\n",
    "\"\"\"\n",
    "tests.test_seq2seq_model(seq2seq_model)"
   ]
  },
  {
   "cell_type": "markdown",
   "metadata": {
    "deletable": true,
    "editable": true
   },
   "source": [
    "## Neural Network Training\n",
    "### Hyperparameters\n",
    "Tune the following parameters:\n",
    "\n",
    "- Set `epochs` to the number of epochs.\n",
    "- Set `batch_size` to the batch size.\n",
    "- Set `rnn_size` to the size of the RNNs.\n",
    "- Set `num_layers` to the number of layers.\n",
    "- Set `encoding_embedding_size` to the size of the embedding for the encoder.\n",
    "- Set `decoding_embedding_size` to the size of the embedding for the decoder.\n",
    "- Set `learning_rate` to the learning rate.\n",
    "- Set `keep_probability` to the Dropout keep probability"
   ]
  },
  {
   "cell_type": "code",
   "execution_count": 14,
   "metadata": {
    "collapsed": true,
    "deletable": true,
    "editable": true
   },
   "outputs": [],
   "source": [
    "# Number of Epochs\n",
    "epochs = 10\n",
    "# Batch Size\n",
    "batch_size = 512\n",
    "# RNN Size\n",
    "rnn_size = 256\n",
    "# Number of Layers\n",
    "num_layers = 2\n",
    "# Embedding Size\n",
    "encoding_embedding_size = 256\n",
    "decoding_embedding_size = 256\n",
    "# Learning Rate\n",
    "learning_rate = 0.001\n",
    "# Dropout Keep Probability\n",
    "keep_probability = 0.6"
   ]
  },
  {
   "cell_type": "markdown",
   "metadata": {
    "deletable": true,
    "editable": true
   },
   "source": [
    "### Build the Graph\n",
    "Build the graph using the neural network you implemented."
   ]
  },
  {
   "cell_type": "code",
   "execution_count": 15,
   "metadata": {
    "collapsed": false,
    "deletable": true,
    "editable": true
   },
   "outputs": [],
   "source": [
    "\"\"\"\n",
    "DON'T MODIFY ANYTHING IN THIS CELL\n",
    "\"\"\"\n",
    "save_path = 'checkpoints/dev'\n",
    "(source_int_text, target_int_text), (source_vocab_to_int, target_vocab_to_int), _ = helper.load_preprocess()\n",
    "max_source_sentence_length = max([len(sentence) for sentence in source_int_text])\n",
    "\n",
    "train_graph = tf.Graph()\n",
    "with train_graph.as_default():\n",
    "    input_data, targets, lr, keep_prob = model_inputs()\n",
    "    sequence_length = tf.placeholder_with_default(max_source_sentence_length, None, name='sequence_length')\n",
    "    input_shape = tf.shape(input_data)\n",
    "    \n",
    "    train_logits, inference_logits = seq2seq_model(\n",
    "        tf.reverse(input_data, [-1]), targets, keep_prob, batch_size, sequence_length, len(source_vocab_to_int), len(target_vocab_to_int),\n",
    "        encoding_embedding_size, decoding_embedding_size, rnn_size, num_layers, target_vocab_to_int)\n",
    "\n",
    "    tf.identity(inference_logits, 'logits')\n",
    "    with tf.name_scope(\"optimization\"):\n",
    "        # Loss function\n",
    "        cost = tf.contrib.seq2seq.sequence_loss(\n",
    "            train_logits,\n",
    "            targets,\n",
    "            tf.ones([input_shape[0], sequence_length]))\n",
    "\n",
    "        # Optimizer\n",
    "        optimizer = tf.train.AdamOptimizer(lr)\n",
    "\n",
    "        # Gradient Clipping\n",
    "        gradients = optimizer.compute_gradients(cost)\n",
    "        capped_gradients = [(tf.clip_by_value(grad, -1., 1.), var) for grad, var in gradients if grad is not None]\n",
    "        train_op = optimizer.apply_gradients(capped_gradients)"
   ]
  },
  {
   "cell_type": "markdown",
   "metadata": {
    "deletable": true,
    "editable": true
   },
   "source": [
    "### Train\n",
    "Train the neural network on the preprocessed data. If you have a hard time getting a good loss, check the forums to see if anyone is having the same problem."
   ]
  },
  {
   "cell_type": "code",
   "execution_count": 16,
   "metadata": {
    "collapsed": false,
    "deletable": true,
    "editable": true,
    "scrolled": true
   },
   "outputs": [
    {
     "name": "stdout",
     "output_type": "stream",
     "text": [
      "Epoch   0 Batch    0/269 - Train Accuracy:  0.242, Validation Accuracy:  0.310, Loss:  5.892\n",
      "Epoch   0 Batch    1/269 - Train Accuracy:  0.233, Validation Accuracy:  0.310, Loss:  5.467\n",
      "Epoch   0 Batch    2/269 - Train Accuracy:  0.266, Validation Accuracy:  0.310, Loss:  4.970\n",
      "Epoch   0 Batch    3/269 - Train Accuracy:  0.244, Validation Accuracy:  0.310, Loss:  4.684\n",
      "Epoch   0 Batch    4/269 - Train Accuracy:  0.232, Validation Accuracy:  0.310, Loss:  4.621\n",
      "Epoch   0 Batch    5/269 - Train Accuracy:  0.245, Validation Accuracy:  0.323, Loss:  4.461\n",
      "Epoch   0 Batch    6/269 - Train Accuracy:  0.312, Validation Accuracy:  0.341, Loss:  4.026\n",
      "Epoch   0 Batch    7/269 - Train Accuracy:  0.310, Validation Accuracy:  0.342, Loss:  3.904\n",
      "Epoch   0 Batch    8/269 - Train Accuracy:  0.278, Validation Accuracy:  0.343, Loss:  3.937\n",
      "Epoch   0 Batch    9/269 - Train Accuracy:  0.303, Validation Accuracy:  0.343, Loss:  3.721\n",
      "Epoch   0 Batch   10/269 - Train Accuracy:  0.271, Validation Accuracy:  0.343, Loss:  3.705\n",
      "Epoch   0 Batch   11/269 - Train Accuracy:  0.308, Validation Accuracy:  0.343, Loss:  3.493\n",
      "Epoch   0 Batch   12/269 - Train Accuracy:  0.290, Validation Accuracy:  0.350, Loss:  3.545\n",
      "Epoch   0 Batch   13/269 - Train Accuracy:  0.376, Validation Accuracy:  0.374, Loss:  3.201\n",
      "Epoch   0 Batch   14/269 - Train Accuracy:  0.342, Validation Accuracy:  0.378, Loss:  3.314\n",
      "Epoch   0 Batch   15/269 - Train Accuracy:  0.336, Validation Accuracy:  0.379, Loss:  3.304\n",
      "Epoch   0 Batch   16/269 - Train Accuracy:  0.349, Validation Accuracy:  0.379, Loss:  3.204\n",
      "Epoch   0 Batch   17/269 - Train Accuracy:  0.343, Validation Accuracy:  0.381, Loss:  3.163\n",
      "Epoch   0 Batch   18/269 - Train Accuracy:  0.315, Validation Accuracy:  0.382, Loss:  3.233\n",
      "Epoch   0 Batch   19/269 - Train Accuracy:  0.387, Validation Accuracy:  0.390, Loss:  2.953\n",
      "Epoch   0 Batch   20/269 - Train Accuracy:  0.331, Validation Accuracy:  0.394, Loss:  3.153\n",
      "Epoch   0 Batch   21/269 - Train Accuracy:  0.339, Validation Accuracy:  0.401, Loss:  3.140\n",
      "Epoch   0 Batch   22/269 - Train Accuracy:  0.379, Validation Accuracy:  0.404, Loss:  2.954\n",
      "Epoch   0 Batch   23/269 - Train Accuracy:  0.385, Validation Accuracy:  0.404, Loss:  2.919\n",
      "Epoch   0 Batch   24/269 - Train Accuracy:  0.356, Validation Accuracy:  0.419, Loss:  3.046\n",
      "Epoch   0 Batch   25/269 - Train Accuracy:  0.364, Validation Accuracy:  0.423, Loss:  3.008\n",
      "Epoch   0 Batch   26/269 - Train Accuracy:  0.429, Validation Accuracy:  0.427, Loss:  2.722\n",
      "Epoch   0 Batch   27/269 - Train Accuracy:  0.401, Validation Accuracy:  0.434, Loss:  2.841\n",
      "Epoch   0 Batch   28/269 - Train Accuracy:  0.375, Validation Accuracy:  0.442, Loss:  2.995\n",
      "Epoch   0 Batch   29/269 - Train Accuracy:  0.380, Validation Accuracy:  0.438, Loss:  2.912\n",
      "Epoch   0 Batch   30/269 - Train Accuracy:  0.408, Validation Accuracy:  0.437, Loss:  2.793\n",
      "Epoch   0 Batch   31/269 - Train Accuracy:  0.419, Validation Accuracy:  0.441, Loss:  2.734\n",
      "Epoch   0 Batch   32/269 - Train Accuracy:  0.407, Validation Accuracy:  0.443, Loss:  2.734\n",
      "Epoch   0 Batch   33/269 - Train Accuracy:  0.422, Validation Accuracy:  0.444, Loss:  2.669\n",
      "Epoch   0 Batch   34/269 - Train Accuracy:  0.418, Validation Accuracy:  0.443, Loss:  2.680\n",
      "Epoch   0 Batch   35/269 - Train Accuracy:  0.429, Validation Accuracy:  0.454, Loss:  2.648\n",
      "Epoch   0 Batch   36/269 - Train Accuracy:  0.419, Validation Accuracy:  0.444, Loss:  2.649\n",
      "Epoch   0 Batch   37/269 - Train Accuracy:  0.435, Validation Accuracy:  0.456, Loss:  2.640\n",
      "Epoch   0 Batch   38/269 - Train Accuracy:  0.433, Validation Accuracy:  0.464, Loss:  2.635\n",
      "Epoch   0 Batch   39/269 - Train Accuracy:  0.431, Validation Accuracy:  0.463, Loss:  2.585\n",
      "Epoch   0 Batch   40/269 - Train Accuracy:  0.402, Validation Accuracy:  0.457, Loss:  2.692\n",
      "Epoch   0 Batch   41/269 - Train Accuracy:  0.440, Validation Accuracy:  0.468, Loss:  2.587\n",
      "Epoch   0 Batch   42/269 - Train Accuracy:  0.468, Validation Accuracy:  0.475, Loss:  2.456\n",
      "Epoch   0 Batch   43/269 - Train Accuracy:  0.427, Validation Accuracy:  0.473, Loss:  2.609\n",
      "Epoch   0 Batch   44/269 - Train Accuracy:  0.460, Validation Accuracy:  0.476, Loss:  2.509\n",
      "Epoch   0 Batch   45/269 - Train Accuracy:  0.426, Validation Accuracy:  0.472, Loss:  2.605\n",
      "Epoch   0 Batch   46/269 - Train Accuracy:  0.410, Validation Accuracy:  0.464, Loss:  2.635\n",
      "Epoch   0 Batch   47/269 - Train Accuracy:  0.485, Validation Accuracy:  0.478, Loss:  2.356\n",
      "Epoch   0 Batch   48/269 - Train Accuracy:  0.451, Validation Accuracy:  0.475, Loss:  2.428\n",
      "Epoch   0 Batch   49/269 - Train Accuracy:  0.419, Validation Accuracy:  0.465, Loss:  2.539\n",
      "Epoch   0 Batch   50/269 - Train Accuracy:  0.419, Validation Accuracy:  0.475, Loss:  2.554\n",
      "Epoch   0 Batch   51/269 - Train Accuracy:  0.448, Validation Accuracy:  0.477, Loss:  2.454\n",
      "Epoch   0 Batch   52/269 - Train Accuracy:  0.446, Validation Accuracy:  0.473, Loss:  2.398\n",
      "Epoch   0 Batch   53/269 - Train Accuracy:  0.439, Validation Accuracy:  0.484, Loss:  2.499\n",
      "Epoch   0 Batch   54/269 - Train Accuracy:  0.441, Validation Accuracy:  0.484, Loss:  2.498\n",
      "Epoch   0 Batch   55/269 - Train Accuracy:  0.462, Validation Accuracy:  0.489, Loss:  2.365\n",
      "Epoch   0 Batch   56/269 - Train Accuracy:  0.472, Validation Accuracy:  0.489, Loss:  2.353\n",
      "Epoch   0 Batch   57/269 - Train Accuracy:  0.470, Validation Accuracy:  0.489, Loss:  2.344\n",
      "Epoch   0 Batch   58/269 - Train Accuracy:  0.473, Validation Accuracy:  0.491, Loss:  2.319\n",
      "Epoch   0 Batch   59/269 - Train Accuracy:  0.469, Validation Accuracy:  0.487, Loss:  2.289\n",
      "Epoch   0 Batch   60/269 - Train Accuracy:  0.474, Validation Accuracy:  0.491, Loss:  2.252\n",
      "Epoch   0 Batch   61/269 - Train Accuracy:  0.495, Validation Accuracy:  0.491, Loss:  2.172\n",
      "Epoch   0 Batch   62/269 - Train Accuracy:  0.489, Validation Accuracy:  0.484, Loss:  2.200\n",
      "Epoch   0 Batch   63/269 - Train Accuracy:  0.455, Validation Accuracy:  0.483, Loss:  2.275\n",
      "Epoch   0 Batch   64/269 - Train Accuracy:  0.472, Validation Accuracy:  0.500, Loss:  2.295\n",
      "Epoch   0 Batch   65/269 - Train Accuracy:  0.478, Validation Accuracy:  0.498, Loss:  2.241\n",
      "Epoch   0 Batch   66/269 - Train Accuracy:  0.472, Validation Accuracy:  0.486, Loss:  2.179\n",
      "Epoch   0 Batch   67/269 - Train Accuracy:  0.458, Validation Accuracy:  0.485, Loss:  2.260\n",
      "Epoch   0 Batch   68/269 - Train Accuracy:  0.459, Validation Accuracy:  0.492, Loss:  2.239\n",
      "Epoch   0 Batch   69/269 - Train Accuracy:  0.434, Validation Accuracy:  0.493, Loss:  2.357\n",
      "Epoch   0 Batch   70/269 - Train Accuracy:  0.487, Validation Accuracy:  0.502, Loss:  2.179\n",
      "Epoch   0 Batch   71/269 - Train Accuracy:  0.419, Validation Accuracy:  0.474, Loss:  2.316\n",
      "Epoch   0 Batch   72/269 - Train Accuracy:  0.492, Validation Accuracy:  0.501, Loss:  2.126\n",
      "Epoch   0 Batch   73/269 - Train Accuracy:  0.486, Validation Accuracy:  0.502, Loss:  2.162\n",
      "Epoch   0 Batch   74/269 - Train Accuracy:  0.422, Validation Accuracy:  0.475, Loss:  2.221\n",
      "Epoch   0 Batch   75/269 - Train Accuracy:  0.483, Validation Accuracy:  0.510, Loss:  2.153\n",
      "Epoch   0 Batch   76/269 - Train Accuracy:  0.463, Validation Accuracy:  0.504, Loss:  2.179\n",
      "Epoch   0 Batch   77/269 - Train Accuracy:  0.442, Validation Accuracy:  0.464, Loss:  2.114\n",
      "Epoch   0 Batch   78/269 - Train Accuracy:  0.477, Validation Accuracy:  0.504, Loss:  2.174\n",
      "Epoch   0 Batch   79/269 - Train Accuracy:  0.476, Validation Accuracy:  0.506, Loss:  2.116\n",
      "Epoch   0 Batch   80/269 - Train Accuracy:  0.436, Validation Accuracy:  0.456, Loss:  2.039\n",
      "Epoch   0 Batch   81/269 - Train Accuracy:  0.475, Validation Accuracy:  0.500, Loss:  2.122\n",
      "Epoch   0 Batch   82/269 - Train Accuracy:  0.487, Validation Accuracy:  0.504, Loss:  2.026\n",
      "Epoch   0 Batch   83/269 - Train Accuracy:  0.446, Validation Accuracy:  0.468, Loss:  2.027\n",
      "Epoch   0 Batch   84/269 - Train Accuracy:  0.469, Validation Accuracy:  0.492, Loss:  2.047\n",
      "Epoch   0 Batch   85/269 - Train Accuracy:  0.477, Validation Accuracy:  0.508, Loss:  2.043\n",
      "Epoch   0 Batch   86/269 - Train Accuracy:  0.432, Validation Accuracy:  0.471, Loss:  2.058\n",
      "Epoch   0 Batch   87/269 - Train Accuracy:  0.410, Validation Accuracy:  0.478, Loss:  2.162\n",
      "Epoch   0 Batch   88/269 - Train Accuracy:  0.478, Validation Accuracy:  0.502, Loss:  1.991\n",
      "Epoch   0 Batch   89/269 - Train Accuracy:  0.474, Validation Accuracy:  0.493, Loss:  1.986\n",
      "Epoch   0 Batch   90/269 - Train Accuracy:  0.416, Validation Accuracy:  0.490, Loss:  2.087\n",
      "Epoch   0 Batch   91/269 - Train Accuracy:  0.465, Validation Accuracy:  0.494, Loss:  1.952\n",
      "Epoch   0 Batch   92/269 - Train Accuracy:  0.464, Validation Accuracy:  0.490, Loss:  1.937\n",
      "Epoch   0 Batch   93/269 - Train Accuracy:  0.480, Validation Accuracy:  0.491, Loss:  1.867\n",
      "Epoch   0 Batch   94/269 - Train Accuracy:  0.463, Validation Accuracy:  0.490, Loss:  1.934\n",
      "Epoch   0 Batch   95/269 - Train Accuracy:  0.465, Validation Accuracy:  0.491, Loss:  1.902\n",
      "Epoch   0 Batch   96/269 - Train Accuracy:  0.465, Validation Accuracy:  0.489, Loss:  1.886\n",
      "Epoch   0 Batch   97/269 - Train Accuracy:  0.466, Validation Accuracy:  0.492, Loss:  1.891\n",
      "Epoch   0 Batch   98/269 - Train Accuracy:  0.473, Validation Accuracy:  0.490, Loss:  1.843\n",
      "Epoch   0 Batch   99/269 - Train Accuracy:  0.439, Validation Accuracy:  0.489, Loss:  1.957\n",
      "Epoch   0 Batch  100/269 - Train Accuracy:  0.489, Validation Accuracy:  0.494, Loss:  1.800\n",
      "Epoch   0 Batch  101/269 - Train Accuracy:  0.427, Validation Accuracy:  0.484, Loss:  1.932\n",
      "Epoch   0 Batch  102/269 - Train Accuracy:  0.467, Validation Accuracy:  0.491, Loss:  1.808\n",
      "Epoch   0 Batch  103/269 - Train Accuracy:  0.476, Validation Accuracy:  0.498, Loss:  1.792\n",
      "Epoch   0 Batch  104/269 - Train Accuracy:  0.457, Validation Accuracy:  0.488, Loss:  1.804\n",
      "Epoch   0 Batch  105/269 - Train Accuracy:  0.472, Validation Accuracy:  0.498, Loss:  1.800\n",
      "Epoch   0 Batch  106/269 - Train Accuracy:  0.476, Validation Accuracy:  0.511, Loss:  1.780\n",
      "Epoch   0 Batch  107/269 - Train Accuracy:  0.415, Validation Accuracy:  0.480, Loss:  1.862\n",
      "Epoch   0 Batch  108/269 - Train Accuracy:  0.482, Validation Accuracy:  0.514, Loss:  1.764\n",
      "Epoch   0 Batch  109/269 - Train Accuracy:  0.473, Validation Accuracy:  0.507, Loss:  1.756\n",
      "Epoch   0 Batch  110/269 - Train Accuracy:  0.465, Validation Accuracy:  0.496, Loss:  1.728\n",
      "Epoch   0 Batch  111/269 - Train Accuracy:  0.458, Validation Accuracy:  0.515, Loss:  1.837\n",
      "Epoch   0 Batch  112/269 - Train Accuracy:  0.482, Validation Accuracy:  0.507, Loss:  1.694\n",
      "Epoch   0 Batch  113/269 - Train Accuracy:  0.496, Validation Accuracy:  0.498, Loss:  1.615\n",
      "Epoch   0 Batch  114/269 - Train Accuracy:  0.489, Validation Accuracy:  0.513, Loss:  1.680\n",
      "Epoch   0 Batch  115/269 - Train Accuracy:  0.443, Validation Accuracy:  0.499, Loss:  1.726\n",
      "Epoch   0 Batch  116/269 - Train Accuracy:  0.482, Validation Accuracy:  0.506, Loss:  1.661\n",
      "Epoch   0 Batch  117/269 - Train Accuracy:  0.483, Validation Accuracy:  0.517, Loss:  1.638\n",
      "Epoch   0 Batch  118/269 - Train Accuracy:  0.480, Validation Accuracy:  0.495, Loss:  1.586\n",
      "Epoch   0 Batch  119/269 - Train Accuracy:  0.465, Validation Accuracy:  0.507, Loss:  1.700\n",
      "Epoch   0 Batch  120/269 - Train Accuracy:  0.464, Validation Accuracy:  0.516, Loss:  1.677\n",
      "Epoch   0 Batch  121/269 - Train Accuracy:  0.461, Validation Accuracy:  0.494, Loss:  1.599\n",
      "Epoch   0 Batch  122/269 - Train Accuracy:  0.490, Validation Accuracy:  0.515, Loss:  1.583\n",
      "Epoch   0 Batch  123/269 - Train Accuracy:  0.463, Validation Accuracy:  0.519, Loss:  1.665\n",
      "Epoch   0 Batch  124/269 - Train Accuracy:  0.434, Validation Accuracy:  0.469, Loss:  1.555\n",
      "Epoch   0 Batch  125/269 - Train Accuracy:  0.472, Validation Accuracy:  0.505, Loss:  1.552\n",
      "Epoch   0 Batch  126/269 - Train Accuracy:  0.495, Validation Accuracy:  0.516, Loss:  1.534\n",
      "Epoch   0 Batch  127/269 - Train Accuracy:  0.429, Validation Accuracy:  0.479, Loss:  1.635\n",
      "Epoch   0 Batch  128/269 - Train Accuracy:  0.486, Validation Accuracy:  0.502, Loss:  1.544\n",
      "Epoch   0 Batch  129/269 - Train Accuracy:  0.497, Validation Accuracy:  0.520, Loss:  1.552\n",
      "Epoch   0 Batch  130/269 - Train Accuracy:  0.407, Validation Accuracy:  0.469, Loss:  1.638\n",
      "Epoch   0 Batch  131/269 - Train Accuracy:  0.421, Validation Accuracy:  0.478, Loss:  1.587\n",
      "Epoch   0 Batch  132/269 - Train Accuracy:  0.485, Validation Accuracy:  0.520, Loss:  1.517\n",
      "Epoch   0 Batch  133/269 - Train Accuracy:  0.483, Validation Accuracy:  0.515, Loss:  1.489\n",
      "Epoch   0 Batch  134/269 - Train Accuracy:  0.412, Validation Accuracy:  0.477, Loss:  1.557\n",
      "Epoch   0 Batch  135/269 - Train Accuracy:  0.443, Validation Accuracy:  0.503, Loss:  1.597\n",
      "Epoch   0 Batch  136/269 - Train Accuracy:  0.452, Validation Accuracy:  0.516, Loss:  1.566\n",
      "Epoch   0 Batch  137/269 - Train Accuracy:  0.435, Validation Accuracy:  0.489, Loss:  1.547\n",
      "Epoch   0 Batch  138/269 - Train Accuracy:  0.451, Validation Accuracy:  0.509, Loss:  1.498\n",
      "Epoch   0 Batch  139/269 - Train Accuracy:  0.503, Validation Accuracy:  0.521, Loss:  1.435\n",
      "Epoch   0 Batch  140/269 - Train Accuracy:  0.464, Validation Accuracy:  0.498, Loss:  1.447\n",
      "Epoch   0 Batch  141/269 - Train Accuracy:  0.460, Validation Accuracy:  0.504, Loss:  1.473\n",
      "Epoch   0 Batch  142/269 - Train Accuracy:  0.496, Validation Accuracy:  0.515, Loss:  1.425\n",
      "Epoch   0 Batch  143/269 - Train Accuracy:  0.472, Validation Accuracy:  0.506, Loss:  1.425\n",
      "Epoch   0 Batch  144/269 - Train Accuracy:  0.482, Validation Accuracy:  0.508, Loss:  1.415\n",
      "Epoch   0 Batch  145/269 - Train Accuracy:  0.491, Validation Accuracy:  0.521, Loss:  1.425\n",
      "Epoch   0 Batch  146/269 - Train Accuracy:  0.489, Validation Accuracy:  0.515, Loss:  1.396\n",
      "Epoch   0 Batch  147/269 - Train Accuracy:  0.481, Validation Accuracy:  0.492, Loss:  1.356\n",
      "Epoch   0 Batch  148/269 - Train Accuracy:  0.474, Validation Accuracy:  0.516, Loss:  1.447\n",
      "Epoch   0 Batch  149/269 - Train Accuracy:  0.493, Validation Accuracy:  0.515, Loss:  1.391\n",
      "Epoch   0 Batch  150/269 - Train Accuracy:  0.459, Validation Accuracy:  0.494, Loss:  1.396\n",
      "Epoch   0 Batch  151/269 - Train Accuracy:  0.509, Validation Accuracy:  0.505, Loss:  1.329\n",
      "Epoch   0 Batch  152/269 - Train Accuracy:  0.478, Validation Accuracy:  0.512, Loss:  1.384\n",
      "Epoch   0 Batch  153/269 - Train Accuracy:  0.451, Validation Accuracy:  0.479, Loss:  1.360\n",
      "Epoch   0 Batch  154/269 - Train Accuracy:  0.440, Validation Accuracy:  0.503, Loss:  1.429\n",
      "Epoch   0 Batch  155/269 - Train Accuracy:  0.492, Validation Accuracy:  0.498, Loss:  1.292\n",
      "Epoch   0 Batch  156/269 - Train Accuracy:  0.449, Validation Accuracy:  0.502, Loss:  1.388\n",
      "Epoch   0 Batch  157/269 - Train Accuracy:  0.475, Validation Accuracy:  0.514, Loss:  1.346\n",
      "Epoch   0 Batch  158/269 - Train Accuracy:  0.482, Validation Accuracy:  0.506, Loss:  1.326\n",
      "Epoch   0 Batch  159/269 - Train Accuracy:  0.480, Validation Accuracy:  0.511, Loss:  1.336\n",
      "Epoch   0 Batch  160/269 - Train Accuracy:  0.504, Validation Accuracy:  0.524, Loss:  1.334\n",
      "Epoch   0 Batch  161/269 - Train Accuracy:  0.486, Validation Accuracy:  0.520, Loss:  1.332\n",
      "Epoch   0 Batch  162/269 - Train Accuracy:  0.490, Validation Accuracy:  0.518, Loss:  1.296\n",
      "Epoch   0 Batch  163/269 - Train Accuracy:  0.495, Validation Accuracy:  0.511, Loss:  1.296\n",
      "Epoch   0 Batch  164/269 - Train Accuracy:  0.496, Validation Accuracy:  0.521, Loss:  1.305\n",
      "Epoch   0 Batch  165/269 - Train Accuracy:  0.482, Validation Accuracy:  0.532, Loss:  1.330\n",
      "Epoch   0 Batch  166/269 - Train Accuracy:  0.536, Validation Accuracy:  0.532, Loss:  1.220\n",
      "Epoch   0 Batch  167/269 - Train Accuracy:  0.524, Validation Accuracy:  0.539, Loss:  1.276\n",
      "Epoch   0 Batch  168/269 - Train Accuracy:  0.500, Validation Accuracy:  0.533, Loss:  1.299\n",
      "Epoch   0 Batch  169/269 - Train Accuracy:  0.464, Validation Accuracy:  0.509, Loss:  1.287\n",
      "Epoch   0 Batch  170/269 - Train Accuracy:  0.507, Validation Accuracy:  0.535, Loss:  1.266\n",
      "Epoch   0 Batch  171/269 - Train Accuracy:  0.487, Validation Accuracy:  0.536, Loss:  1.301\n",
      "Epoch   0 Batch  172/269 - Train Accuracy:  0.482, Validation Accuracy:  0.505, Loss:  1.272\n",
      "Epoch   0 Batch  173/269 - Train Accuracy:  0.502, Validation Accuracy:  0.530, Loss:  1.255\n",
      "Epoch   0 Batch  174/269 - Train Accuracy:  0.508, Validation Accuracy:  0.536, Loss:  1.255\n",
      "Epoch   0 Batch  175/269 - Train Accuracy:  0.460, Validation Accuracy:  0.492, Loss:  1.251\n",
      "Epoch   0 Batch  176/269 - Train Accuracy:  0.498, Validation Accuracy:  0.542, Loss:  1.302\n",
      "Epoch   0 Batch  177/269 - Train Accuracy:  0.533, Validation Accuracy:  0.537, Loss:  1.198\n",
      "Epoch   0 Batch  178/269 - Train Accuracy:  0.450, Validation Accuracy:  0.497, Loss:  1.274\n",
      "Epoch   0 Batch  179/269 - Train Accuracy:  0.499, Validation Accuracy:  0.533, Loss:  1.226\n",
      "Epoch   0 Batch  180/269 - Train Accuracy:  0.520, Validation Accuracy:  0.541, Loss:  1.199\n",
      "Epoch   0 Batch  181/269 - Train Accuracy:  0.461, Validation Accuracy:  0.491, Loss:  1.223\n",
      "Epoch   0 Batch  182/269 - Train Accuracy:  0.482, Validation Accuracy:  0.513, Loss:  1.217\n",
      "Epoch   0 Batch  183/269 - Train Accuracy:  0.577, Validation Accuracy:  0.535, Loss:  1.040\n",
      "Epoch   0 Batch  184/269 - Train Accuracy:  0.460, Validation Accuracy:  0.510, Loss:  1.251\n",
      "Epoch   0 Batch  185/269 - Train Accuracy:  0.476, Validation Accuracy:  0.496, Loss:  1.186\n",
      "Epoch   0 Batch  186/269 - Train Accuracy:  0.487, Validation Accuracy:  0.536, Loss:  1.230\n",
      "Epoch   0 Batch  187/269 - Train Accuracy:  0.527, Validation Accuracy:  0.537, Loss:  1.154\n",
      "Epoch   0 Batch  188/269 - Train Accuracy:  0.470, Validation Accuracy:  0.490, Loss:  1.143\n",
      "Epoch   0 Batch  189/269 - Train Accuracy:  0.473, Validation Accuracy:  0.493, Loss:  1.158\n",
      "Epoch   0 Batch  190/269 - Train Accuracy:  0.514, Validation Accuracy:  0.541, Loss:  1.152\n",
      "Epoch   0 Batch  191/269 - Train Accuracy:  0.513, Validation Accuracy:  0.541, Loss:  1.170\n",
      "Epoch   0 Batch  192/269 - Train Accuracy:  0.502, Validation Accuracy:  0.525, Loss:  1.159\n",
      "Epoch   0 Batch  193/269 - Train Accuracy:  0.503, Validation Accuracy:  0.533, Loss:  1.150\n",
      "Epoch   0 Batch  194/269 - Train Accuracy:  0.530, Validation Accuracy:  0.543, Loss:  1.149\n",
      "Epoch   0 Batch  195/269 - Train Accuracy:  0.504, Validation Accuracy:  0.533, Loss:  1.154\n",
      "Epoch   0 Batch  196/269 - Train Accuracy:  0.485, Validation Accuracy:  0.521, Loss:  1.130\n",
      "Epoch   0 Batch  197/269 - Train Accuracy:  0.477, Validation Accuracy:  0.540, Loss:  1.180\n",
      "Epoch   0 Batch  198/269 - Train Accuracy:  0.502, Validation Accuracy:  0.544, Loss:  1.203\n",
      "Epoch   0 Batch  199/269 - Train Accuracy:  0.509, Validation Accuracy:  0.544, Loss:  1.158\n",
      "Epoch   0 Batch  200/269 - Train Accuracy:  0.498, Validation Accuracy:  0.539, Loss:  1.155\n",
      "Epoch   0 Batch  201/269 - Train Accuracy:  0.528, Validation Accuracy:  0.546, Loss:  1.115\n",
      "Epoch   0 Batch  202/269 - Train Accuracy:  0.530, Validation Accuracy:  0.550, Loss:  1.119\n",
      "Epoch   0 Batch  203/269 - Train Accuracy:  0.501, Validation Accuracy:  0.550, Loss:  1.170\n",
      "Epoch   0 Batch  204/269 - Train Accuracy:  0.503, Validation Accuracy:  0.545, Loss:  1.139\n",
      "Epoch   0 Batch  205/269 - Train Accuracy:  0.504, Validation Accuracy:  0.541, Loss:  1.091\n",
      "Epoch   0 Batch  206/269 - Train Accuracy:  0.495, Validation Accuracy:  0.547, Loss:  1.161\n",
      "Epoch   0 Batch  207/269 - Train Accuracy:  0.551, Validation Accuracy:  0.549, Loss:  1.051\n",
      "Epoch   0 Batch  208/269 - Train Accuracy:  0.497, Validation Accuracy:  0.544, Loss:  1.161\n",
      "Epoch   0 Batch  209/269 - Train Accuracy:  0.504, Validation Accuracy:  0.546, Loss:  1.106\n",
      "Epoch   0 Batch  210/269 - Train Accuracy:  0.539, Validation Accuracy:  0.551, Loss:  1.063\n",
      "Epoch   0 Batch  211/269 - Train Accuracy:  0.535, Validation Accuracy:  0.549, Loss:  1.082\n",
      "Epoch   0 Batch  212/269 - Train Accuracy:  0.530, Validation Accuracy:  0.542, Loss:  1.055\n",
      "Epoch   0 Batch  213/269 - Train Accuracy:  0.539, Validation Accuracy:  0.551, Loss:  1.053\n",
      "Epoch   0 Batch  214/269 - Train Accuracy:  0.538, Validation Accuracy:  0.553, Loss:  1.049\n",
      "Epoch   0 Batch  215/269 - Train Accuracy:  0.559, Validation Accuracy:  0.552, Loss:  1.002\n",
      "Epoch   0 Batch  216/269 - Train Accuracy:  0.498, Validation Accuracy:  0.553, Loss:  1.133\n",
      "Epoch   0 Batch  217/269 - Train Accuracy:  0.506, Validation Accuracy:  0.552, Loss:  1.101\n",
      "Epoch   0 Batch  218/269 - Train Accuracy:  0.526, Validation Accuracy:  0.553, Loss:  1.095\n",
      "Epoch   0 Batch  219/269 - Train Accuracy:  0.529, Validation Accuracy:  0.549, Loss:  1.081\n",
      "Epoch   0 Batch  220/269 - Train Accuracy:  0.545, Validation Accuracy:  0.553, Loss:  1.005\n",
      "Epoch   0 Batch  221/269 - Train Accuracy:  0.548, Validation Accuracy:  0.551, Loss:  1.032\n",
      "Epoch   0 Batch  222/269 - Train Accuracy:  0.533, Validation Accuracy:  0.544, Loss:  0.994\n",
      "Epoch   0 Batch  223/269 - Train Accuracy:  0.540, Validation Accuracy:  0.548, Loss:  1.000\n",
      "Epoch   0 Batch  224/269 - Train Accuracy:  0.543, Validation Accuracy:  0.555, Loss:  1.049\n",
      "Epoch   0 Batch  225/269 - Train Accuracy:  0.522, Validation Accuracy:  0.555, Loss:  1.049\n",
      "Epoch   0 Batch  226/269 - Train Accuracy:  0.527, Validation Accuracy:  0.556, Loss:  1.020\n",
      "Epoch   0 Batch  227/269 - Train Accuracy:  0.600, Validation Accuracy:  0.553, Loss:  0.895\n",
      "Epoch   0 Batch  228/269 - Train Accuracy:  0.525, Validation Accuracy:  0.549, Loss:  1.023\n",
      "Epoch   0 Batch  229/269 - Train Accuracy:  0.531, Validation Accuracy:  0.554, Loss:  1.009\n",
      "Epoch   0 Batch  230/269 - Train Accuracy:  0.531, Validation Accuracy:  0.552, Loss:  1.016\n",
      "Epoch   0 Batch  231/269 - Train Accuracy:  0.510, Validation Accuracy:  0.552, Loss:  1.056\n",
      "Epoch   0 Batch  232/269 - Train Accuracy:  0.510, Validation Accuracy:  0.557, Loss:  1.041\n",
      "Epoch   0 Batch  233/269 - Train Accuracy:  0.538, Validation Accuracy:  0.555, Loss:  1.012\n",
      "Epoch   0 Batch  234/269 - Train Accuracy:  0.534, Validation Accuracy:  0.550, Loss:  1.007\n",
      "Epoch   0 Batch  235/269 - Train Accuracy:  0.534, Validation Accuracy:  0.539, Loss:  0.990\n",
      "Epoch   0 Batch  236/269 - Train Accuracy:  0.521, Validation Accuracy:  0.552, Loss:  0.991\n",
      "Epoch   0 Batch  237/269 - Train Accuracy:  0.530, Validation Accuracy:  0.556, Loss:  0.980\n",
      "Epoch   0 Batch  238/269 - Train Accuracy:  0.536, Validation Accuracy:  0.553, Loss:  0.981\n",
      "Epoch   0 Batch  239/269 - Train Accuracy:  0.541, Validation Accuracy:  0.550, Loss:  0.974\n",
      "Epoch   0 Batch  240/269 - Train Accuracy:  0.559, Validation Accuracy:  0.545, Loss:  0.914\n",
      "Epoch   0 Batch  241/269 - Train Accuracy:  0.532, Validation Accuracy:  0.550, Loss:  0.983\n",
      "Epoch   0 Batch  242/269 - Train Accuracy:  0.528, Validation Accuracy:  0.554, Loss:  0.970\n",
      "Epoch   0 Batch  243/269 - Train Accuracy:  0.553, Validation Accuracy:  0.557, Loss:  0.934\n",
      "Epoch   0 Batch  244/269 - Train Accuracy:  0.539, Validation Accuracy:  0.554, Loss:  0.950\n",
      "Epoch   0 Batch  245/269 - Train Accuracy:  0.520, Validation Accuracy:  0.557, Loss:  1.013\n",
      "Epoch   0 Batch  246/269 - Train Accuracy:  0.528, Validation Accuracy:  0.553, Loss:  0.966\n",
      "Epoch   0 Batch  247/269 - Train Accuracy:  0.529, Validation Accuracy:  0.557, Loss:  0.987\n",
      "Epoch   0 Batch  248/269 - Train Accuracy:  0.529, Validation Accuracy:  0.557, Loss:  0.945\n",
      "Epoch   0 Batch  249/269 - Train Accuracy:  0.561, Validation Accuracy:  0.555, Loss:  0.913\n",
      "Epoch   0 Batch  250/269 - Train Accuracy:  0.520, Validation Accuracy:  0.554, Loss:  0.973\n",
      "Epoch   0 Batch  251/269 - Train Accuracy:  0.544, Validation Accuracy:  0.552, Loss:  0.928\n",
      "Epoch   0 Batch  252/269 - Train Accuracy:  0.524, Validation Accuracy:  0.553, Loss:  0.945\n",
      "Epoch   0 Batch  253/269 - Train Accuracy:  0.536, Validation Accuracy:  0.558, Loss:  0.947\n",
      "Epoch   0 Batch  254/269 - Train Accuracy:  0.551, Validation Accuracy:  0.557, Loss:  0.930\n",
      "Epoch   0 Batch  255/269 - Train Accuracy:  0.571, Validation Accuracy:  0.556, Loss:  0.894\n",
      "Epoch   0 Batch  256/269 - Train Accuracy:  0.520, Validation Accuracy:  0.552, Loss:  0.943\n",
      "Epoch   0 Batch  257/269 - Train Accuracy:  0.531, Validation Accuracy:  0.553, Loss:  0.942\n",
      "Epoch   0 Batch  258/269 - Train Accuracy:  0.524, Validation Accuracy:  0.548, Loss:  0.927\n",
      "Epoch   0 Batch  259/269 - Train Accuracy:  0.548, Validation Accuracy:  0.550, Loss:  0.915\n",
      "Epoch   0 Batch  260/269 - Train Accuracy:  0.522, Validation Accuracy:  0.545, Loss:  0.966\n",
      "Epoch   0 Batch  261/269 - Train Accuracy:  0.500, Validation Accuracy:  0.551, Loss:  0.968\n",
      "Epoch   0 Batch  262/269 - Train Accuracy:  0.544, Validation Accuracy:  0.556, Loss:  0.922\n",
      "Epoch   0 Batch  263/269 - Train Accuracy:  0.538, Validation Accuracy:  0.557, Loss:  0.946\n",
      "Epoch   0 Batch  264/269 - Train Accuracy:  0.516, Validation Accuracy:  0.555, Loss:  0.959\n",
      "Epoch   0 Batch  265/269 - Train Accuracy:  0.522, Validation Accuracy:  0.555, Loss:  0.936\n",
      "Epoch   0 Batch  266/269 - Train Accuracy:  0.544, Validation Accuracy:  0.555, Loss:  0.889\n",
      "Epoch   0 Batch  267/269 - Train Accuracy:  0.523, Validation Accuracy:  0.553, Loss:  0.924\n",
      "Epoch   5 Batch    0/269 - Train Accuracy:  0.850, Validation Accuracy:  0.852, Loss:  0.174\n",
      "Epoch   5 Batch    1/269 - Train Accuracy:  0.853, Validation Accuracy:  0.854, Loss:  0.164\n",
      "Epoch   5 Batch    2/269 - Train Accuracy:  0.855, Validation Accuracy:  0.851, Loss:  0.161\n",
      "Epoch   5 Batch    3/269 - Train Accuracy:  0.850, Validation Accuracy:  0.857, Loss:  0.166\n",
      "Epoch   5 Batch    4/269 - Train Accuracy:  0.836, Validation Accuracy:  0.852, Loss:  0.171\n",
      "Epoch   5 Batch    5/269 - Train Accuracy:  0.846, Validation Accuracy:  0.854, Loss:  0.168\n",
      "Epoch   5 Batch    6/269 - Train Accuracy:  0.866, Validation Accuracy:  0.854, Loss:  0.154\n",
      "Epoch   5 Batch    7/269 - Train Accuracy:  0.860, Validation Accuracy:  0.848, Loss:  0.154\n",
      "Epoch   5 Batch    8/269 - Train Accuracy:  0.851, Validation Accuracy:  0.854, Loss:  0.167\n",
      "Epoch   5 Batch    9/269 - Train Accuracy:  0.848, Validation Accuracy:  0.861, Loss:  0.167\n",
      "Epoch   5 Batch   10/269 - Train Accuracy:  0.857, Validation Accuracy:  0.860, Loss:  0.156\n",
      "Epoch   5 Batch   11/269 - Train Accuracy:  0.852, Validation Accuracy:  0.858, Loss:  0.167\n",
      "Epoch   5 Batch   12/269 - Train Accuracy:  0.843, Validation Accuracy:  0.863, Loss:  0.173\n",
      "Epoch   5 Batch   13/269 - Train Accuracy:  0.858, Validation Accuracy:  0.862, Loss:  0.145\n",
      "Epoch   5 Batch   14/269 - Train Accuracy:  0.848, Validation Accuracy:  0.857, Loss:  0.163\n",
      "Epoch   5 Batch   15/269 - Train Accuracy:  0.848, Validation Accuracy:  0.860, Loss:  0.143\n",
      "Epoch   5 Batch   16/269 - Train Accuracy:  0.849, Validation Accuracy:  0.860, Loss:  0.169\n",
      "Epoch   5 Batch   17/269 - Train Accuracy:  0.848, Validation Accuracy:  0.863, Loss:  0.144\n",
      "Epoch   5 Batch   18/269 - Train Accuracy:  0.849, Validation Accuracy:  0.858, Loss:  0.162\n",
      "Epoch   5 Batch   19/269 - Train Accuracy:  0.870, Validation Accuracy:  0.859, Loss:  0.143\n",
      "Epoch   5 Batch   20/269 - Train Accuracy:  0.862, Validation Accuracy:  0.864, Loss:  0.162\n",
      "Epoch   5 Batch   21/269 - Train Accuracy:  0.841, Validation Accuracy:  0.862, Loss:  0.176\n",
      "Epoch   5 Batch   22/269 - Train Accuracy:  0.873, Validation Accuracy:  0.861, Loss:  0.148\n",
      "Epoch   5 Batch   23/269 - Train Accuracy:  0.862, Validation Accuracy:  0.866, Loss:  0.160\n",
      "Epoch   5 Batch   24/269 - Train Accuracy:  0.860, Validation Accuracy:  0.866, Loss:  0.157\n",
      "Epoch   5 Batch   25/269 - Train Accuracy:  0.853, Validation Accuracy:  0.859, Loss:  0.169\n",
      "Epoch   5 Batch   26/269 - Train Accuracy:  0.867, Validation Accuracy:  0.873, Loss:  0.146\n",
      "Epoch   5 Batch   27/269 - Train Accuracy:  0.858, Validation Accuracy:  0.869, Loss:  0.150\n",
      "Epoch   5 Batch   28/269 - Train Accuracy:  0.837, Validation Accuracy:  0.868, Loss:  0.168\n",
      "Epoch   5 Batch   29/269 - Train Accuracy:  0.864, Validation Accuracy:  0.860, Loss:  0.160\n",
      "Epoch   5 Batch   30/269 - Train Accuracy:  0.881, Validation Accuracy:  0.869, Loss:  0.153\n",
      "Epoch   5 Batch   31/269 - Train Accuracy:  0.871, Validation Accuracy:  0.870, Loss:  0.147\n",
      "Epoch   5 Batch   32/269 - Train Accuracy:  0.861, Validation Accuracy:  0.864, Loss:  0.145\n",
      "Epoch   5 Batch   33/269 - Train Accuracy:  0.876, Validation Accuracy:  0.861, Loss:  0.142\n",
      "Epoch   5 Batch   34/269 - Train Accuracy:  0.869, Validation Accuracy:  0.870, Loss:  0.148\n",
      "Epoch   5 Batch   35/269 - Train Accuracy:  0.870, Validation Accuracy:  0.868, Loss:  0.166\n",
      "Epoch   5 Batch   36/269 - Train Accuracy:  0.859, Validation Accuracy:  0.865, Loss:  0.153\n",
      "Epoch   5 Batch   37/269 - Train Accuracy:  0.859, Validation Accuracy:  0.868, Loss:  0.152\n",
      "Epoch   5 Batch   38/269 - Train Accuracy:  0.871, Validation Accuracy:  0.874, Loss:  0.153\n",
      "Epoch   5 Batch   39/269 - Train Accuracy:  0.866, Validation Accuracy:  0.875, Loss:  0.149\n",
      "Epoch   5 Batch   40/269 - Train Accuracy:  0.858, Validation Accuracy:  0.866, Loss:  0.154\n",
      "Epoch   5 Batch   41/269 - Train Accuracy:  0.865, Validation Accuracy:  0.870, Loss:  0.155\n",
      "Epoch   5 Batch   42/269 - Train Accuracy:  0.886, Validation Accuracy:  0.874, Loss:  0.141\n",
      "Epoch   5 Batch   43/269 - Train Accuracy:  0.874, Validation Accuracy:  0.881, Loss:  0.155\n",
      "Epoch   5 Batch   44/269 - Train Accuracy:  0.870, Validation Accuracy:  0.889, Loss:  0.151\n",
      "Epoch   5 Batch   45/269 - Train Accuracy:  0.870, Validation Accuracy:  0.881, Loss:  0.149\n",
      "Epoch   5 Batch   46/269 - Train Accuracy:  0.872, Validation Accuracy:  0.886, Loss:  0.153\n",
      "Epoch   5 Batch   47/269 - Train Accuracy:  0.884, Validation Accuracy:  0.888, Loss:  0.131\n",
      "Epoch   5 Batch   48/269 - Train Accuracy:  0.883, Validation Accuracy:  0.883, Loss:  0.147\n",
      "Epoch   5 Batch   49/269 - Train Accuracy:  0.875, Validation Accuracy:  0.883, Loss:  0.146\n",
      "Epoch   5 Batch   50/269 - Train Accuracy:  0.856, Validation Accuracy:  0.887, Loss:  0.157\n",
      "Epoch   5 Batch   51/269 - Train Accuracy:  0.889, Validation Accuracy:  0.888, Loss:  0.151\n",
      "Epoch   5 Batch   52/269 - Train Accuracy:  0.876, Validation Accuracy:  0.887, Loss:  0.136\n",
      "Epoch   5 Batch   53/269 - Train Accuracy:  0.876, Validation Accuracy:  0.883, Loss:  0.153\n",
      "Epoch   5 Batch   54/269 - Train Accuracy:  0.895, Validation Accuracy:  0.883, Loss:  0.143\n",
      "Epoch   5 Batch   55/269 - Train Accuracy:  0.893, Validation Accuracy:  0.889, Loss:  0.141\n",
      "Epoch   5 Batch   56/269 - Train Accuracy:  0.877, Validation Accuracy:  0.886, Loss:  0.144\n",
      "Epoch   5 Batch   57/269 - Train Accuracy:  0.879, Validation Accuracy:  0.887, Loss:  0.148\n",
      "Epoch   5 Batch   58/269 - Train Accuracy:  0.873, Validation Accuracy:  0.885, Loss:  0.142\n",
      "Epoch   5 Batch   59/269 - Train Accuracy:  0.896, Validation Accuracy:  0.884, Loss:  0.127\n",
      "Epoch   5 Batch   60/269 - Train Accuracy:  0.879, Validation Accuracy:  0.884, Loss:  0.137\n",
      "Epoch   5 Batch   61/269 - Train Accuracy:  0.894, Validation Accuracy:  0.888, Loss:  0.132\n",
      "Epoch   5 Batch   62/269 - Train Accuracy:  0.887, Validation Accuracy:  0.885, Loss:  0.135\n",
      "Epoch   5 Batch   63/269 - Train Accuracy:  0.876, Validation Accuracy:  0.884, Loss:  0.143\n",
      "Epoch   5 Batch   64/269 - Train Accuracy:  0.885, Validation Accuracy:  0.886, Loss:  0.134\n",
      "Epoch   5 Batch   65/269 - Train Accuracy:  0.863, Validation Accuracy:  0.890, Loss:  0.139\n",
      "Epoch   5 Batch   66/269 - Train Accuracy:  0.880, Validation Accuracy:  0.889, Loss:  0.140\n",
      "Epoch   5 Batch   67/269 - Train Accuracy:  0.882, Validation Accuracy:  0.895, Loss:  0.148\n",
      "Epoch   5 Batch   68/269 - Train Accuracy:  0.866, Validation Accuracy:  0.897, Loss:  0.151\n",
      "Epoch   5 Batch   69/269 - Train Accuracy:  0.868, Validation Accuracy:  0.885, Loss:  0.163\n",
      "Epoch   5 Batch   70/269 - Train Accuracy:  0.899, Validation Accuracy:  0.881, Loss:  0.144\n",
      "Epoch   5 Batch   71/269 - Train Accuracy:  0.876, Validation Accuracy:  0.889, Loss:  0.153\n",
      "Epoch   5 Batch   72/269 - Train Accuracy:  0.870, Validation Accuracy:  0.882, Loss:  0.151\n",
      "Epoch   5 Batch   73/269 - Train Accuracy:  0.880, Validation Accuracy:  0.888, Loss:  0.150\n",
      "Epoch   5 Batch   74/269 - Train Accuracy:  0.895, Validation Accuracy:  0.896, Loss:  0.135\n",
      "Epoch   5 Batch   75/269 - Train Accuracy:  0.882, Validation Accuracy:  0.896, Loss:  0.143\n",
      "Epoch   5 Batch   76/269 - Train Accuracy:  0.874, Validation Accuracy:  0.889, Loss:  0.145\n",
      "Epoch   5 Batch   77/269 - Train Accuracy:  0.871, Validation Accuracy:  0.887, Loss:  0.134\n",
      "Epoch   5 Batch   78/269 - Train Accuracy:  0.895, Validation Accuracy:  0.887, Loss:  0.136\n",
      "Epoch   5 Batch   79/269 - Train Accuracy:  0.869, Validation Accuracy:  0.886, Loss:  0.139\n",
      "Epoch   5 Batch   80/269 - Train Accuracy:  0.882, Validation Accuracy:  0.886, Loss:  0.135\n",
      "Epoch   5 Batch   81/269 - Train Accuracy:  0.874, Validation Accuracy:  0.886, Loss:  0.145\n",
      "Epoch   5 Batch   82/269 - Train Accuracy:  0.902, Validation Accuracy:  0.890, Loss:  0.129\n",
      "Epoch   5 Batch   83/269 - Train Accuracy:  0.879, Validation Accuracy:  0.895, Loss:  0.148\n",
      "Epoch   5 Batch   84/269 - Train Accuracy:  0.891, Validation Accuracy:  0.900, Loss:  0.134\n",
      "Epoch   5 Batch   85/269 - Train Accuracy:  0.897, Validation Accuracy:  0.894, Loss:  0.133\n",
      "Epoch   5 Batch   86/269 - Train Accuracy:  0.887, Validation Accuracy:  0.894, Loss:  0.134\n",
      "Epoch   5 Batch   87/269 - Train Accuracy:  0.880, Validation Accuracy:  0.901, Loss:  0.145\n",
      "Epoch   5 Batch   88/269 - Train Accuracy:  0.883, Validation Accuracy:  0.898, Loss:  0.140\n",
      "Epoch   5 Batch   89/269 - Train Accuracy:  0.895, Validation Accuracy:  0.901, Loss:  0.133\n",
      "Epoch   5 Batch   90/269 - Train Accuracy:  0.863, Validation Accuracy:  0.889, Loss:  0.145\n",
      "Epoch   5 Batch   91/269 - Train Accuracy:  0.892, Validation Accuracy:  0.888, Loss:  0.134\n",
      "Epoch   5 Batch   92/269 - Train Accuracy:  0.897, Validation Accuracy:  0.901, Loss:  0.130\n",
      "Epoch   5 Batch   93/269 - Train Accuracy:  0.897, Validation Accuracy:  0.900, Loss:  0.127\n",
      "Epoch   5 Batch   94/269 - Train Accuracy:  0.880, Validation Accuracy:  0.898, Loss:  0.146\n",
      "Epoch   5 Batch   95/269 - Train Accuracy:  0.886, Validation Accuracy:  0.888, Loss:  0.132\n",
      "Epoch   5 Batch   96/269 - Train Accuracy:  0.865, Validation Accuracy:  0.885, Loss:  0.140\n",
      "Epoch   5 Batch   97/269 - Train Accuracy:  0.890, Validation Accuracy:  0.888, Loss:  0.137\n",
      "Epoch   5 Batch   98/269 - Train Accuracy:  0.886, Validation Accuracy:  0.889, Loss:  0.137\n",
      "Epoch   5 Batch   99/269 - Train Accuracy:  0.873, Validation Accuracy:  0.887, Loss:  0.133\n",
      "Epoch   5 Batch  100/269 - Train Accuracy:  0.893, Validation Accuracy:  0.885, Loss:  0.131\n",
      "Epoch   5 Batch  101/269 - Train Accuracy:  0.873, Validation Accuracy:  0.890, Loss:  0.146\n",
      "Epoch   5 Batch  102/269 - Train Accuracy:  0.882, Validation Accuracy:  0.895, Loss:  0.128\n",
      "Epoch   5 Batch  103/269 - Train Accuracy:  0.883, Validation Accuracy:  0.892, Loss:  0.140\n",
      "Epoch   5 Batch  104/269 - Train Accuracy:  0.878, Validation Accuracy:  0.896, Loss:  0.132\n",
      "Epoch   5 Batch  105/269 - Train Accuracy:  0.875, Validation Accuracy:  0.896, Loss:  0.134\n",
      "Epoch   5 Batch  106/269 - Train Accuracy:  0.894, Validation Accuracy:  0.896, Loss:  0.131\n",
      "Epoch   5 Batch  107/269 - Train Accuracy:  0.890, Validation Accuracy:  0.896, Loss:  0.138\n",
      "Epoch   5 Batch  108/269 - Train Accuracy:  0.896, Validation Accuracy:  0.895, Loss:  0.132\n",
      "Epoch   5 Batch  109/269 - Train Accuracy:  0.864, Validation Accuracy:  0.886, Loss:  0.143\n",
      "Epoch   5 Batch  110/269 - Train Accuracy:  0.880, Validation Accuracy:  0.888, Loss:  0.126\n",
      "Epoch   5 Batch  111/269 - Train Accuracy:  0.882, Validation Accuracy:  0.885, Loss:  0.146\n",
      "Epoch   5 Batch  112/269 - Train Accuracy:  0.896, Validation Accuracy:  0.889, Loss:  0.133\n",
      "Epoch   5 Batch  113/269 - Train Accuracy:  0.879, Validation Accuracy:  0.890, Loss:  0.131\n",
      "Epoch   5 Batch  114/269 - Train Accuracy:  0.885, Validation Accuracy:  0.898, Loss:  0.132\n",
      "Epoch   5 Batch  115/269 - Train Accuracy:  0.887, Validation Accuracy:  0.894, Loss:  0.131\n",
      "Epoch   5 Batch  116/269 - Train Accuracy:  0.892, Validation Accuracy:  0.895, Loss:  0.138\n",
      "Epoch   5 Batch  117/269 - Train Accuracy:  0.893, Validation Accuracy:  0.901, Loss:  0.131\n",
      "Epoch   5 Batch  118/269 - Train Accuracy:  0.910, Validation Accuracy:  0.898, Loss:  0.118\n",
      "Epoch   5 Batch  119/269 - Train Accuracy:  0.885, Validation Accuracy:  0.899, Loss:  0.138\n",
      "Epoch   5 Batch  120/269 - Train Accuracy:  0.890, Validation Accuracy:  0.898, Loss:  0.136\n",
      "Epoch   5 Batch  121/269 - Train Accuracy:  0.888, Validation Accuracy:  0.896, Loss:  0.127\n",
      "Epoch   5 Batch  122/269 - Train Accuracy:  0.892, Validation Accuracy:  0.894, Loss:  0.124\n",
      "Epoch   5 Batch  123/269 - Train Accuracy:  0.890, Validation Accuracy:  0.897, Loss:  0.133\n",
      "Epoch   5 Batch  124/269 - Train Accuracy:  0.891, Validation Accuracy:  0.901, Loss:  0.121\n",
      "Epoch   5 Batch  125/269 - Train Accuracy:  0.897, Validation Accuracy:  0.896, Loss:  0.125\n",
      "Epoch   5 Batch  126/269 - Train Accuracy:  0.855, Validation Accuracy:  0.893, Loss:  0.128\n",
      "Epoch   5 Batch  127/269 - Train Accuracy:  0.880, Validation Accuracy:  0.895, Loss:  0.132\n",
      "Epoch   5 Batch  128/269 - Train Accuracy:  0.889, Validation Accuracy:  0.892, Loss:  0.133\n",
      "Epoch   5 Batch  129/269 - Train Accuracy:  0.872, Validation Accuracy:  0.894, Loss:  0.125\n",
      "Epoch   5 Batch  130/269 - Train Accuracy:  0.881, Validation Accuracy:  0.893, Loss:  0.129\n",
      "Epoch   5 Batch  131/269 - Train Accuracy:  0.879, Validation Accuracy:  0.896, Loss:  0.127\n",
      "Epoch   5 Batch  132/269 - Train Accuracy:  0.879, Validation Accuracy:  0.898, Loss:  0.131\n",
      "Epoch   5 Batch  133/269 - Train Accuracy:  0.895, Validation Accuracy:  0.897, Loss:  0.123\n",
      "Epoch   5 Batch  134/269 - Train Accuracy:  0.888, Validation Accuracy:  0.901, Loss:  0.127\n",
      "Epoch   5 Batch  135/269 - Train Accuracy:  0.888, Validation Accuracy:  0.902, Loss:  0.131\n",
      "Epoch   5 Batch  136/269 - Train Accuracy:  0.876, Validation Accuracy:  0.902, Loss:  0.134\n",
      "Epoch   5 Batch  137/269 - Train Accuracy:  0.891, Validation Accuracy:  0.906, Loss:  0.142\n",
      "Epoch   5 Batch  138/269 - Train Accuracy:  0.900, Validation Accuracy:  0.902, Loss:  0.123\n",
      "Epoch   5 Batch  139/269 - Train Accuracy:  0.889, Validation Accuracy:  0.900, Loss:  0.119\n",
      "Epoch   5 Batch  140/269 - Train Accuracy:  0.895, Validation Accuracy:  0.897, Loss:  0.137\n",
      "Epoch   5 Batch  141/269 - Train Accuracy:  0.891, Validation Accuracy:  0.908, Loss:  0.133\n",
      "Epoch   5 Batch  142/269 - Train Accuracy:  0.892, Validation Accuracy:  0.900, Loss:  0.122\n",
      "Epoch   5 Batch  143/269 - Train Accuracy:  0.896, Validation Accuracy:  0.898, Loss:  0.124\n",
      "Epoch   5 Batch  144/269 - Train Accuracy:  0.897, Validation Accuracy:  0.903, Loss:  0.117\n",
      "Epoch   5 Batch  145/269 - Train Accuracy:  0.886, Validation Accuracy:  0.899, Loss:  0.120\n",
      "Epoch   5 Batch  146/269 - Train Accuracy:  0.888, Validation Accuracy:  0.896, Loss:  0.125\n",
      "Epoch   5 Batch  147/269 - Train Accuracy:  0.905, Validation Accuracy:  0.900, Loss:  0.126\n",
      "Epoch   5 Batch  148/269 - Train Accuracy:  0.895, Validation Accuracy:  0.899, Loss:  0.122\n",
      "Epoch   5 Batch  149/269 - Train Accuracy:  0.875, Validation Accuracy:  0.901, Loss:  0.133\n",
      "Epoch   5 Batch  150/269 - Train Accuracy:  0.879, Validation Accuracy:  0.897, Loss:  0.122\n",
      "Epoch   5 Batch  151/269 - Train Accuracy:  0.899, Validation Accuracy:  0.897, Loss:  0.124\n",
      "Epoch   5 Batch  152/269 - Train Accuracy:  0.887, Validation Accuracy:  0.896, Loss:  0.127\n",
      "Epoch   5 Batch  153/269 - Train Accuracy:  0.899, Validation Accuracy:  0.899, Loss:  0.126\n",
      "Epoch   5 Batch  154/269 - Train Accuracy:  0.905, Validation Accuracy:  0.901, Loss:  0.123\n",
      "Epoch   5 Batch  155/269 - Train Accuracy:  0.892, Validation Accuracy:  0.903, Loss:  0.120\n",
      "Epoch   5 Batch  156/269 - Train Accuracy:  0.903, Validation Accuracy:  0.904, Loss:  0.130\n",
      "Epoch   5 Batch  157/269 - Train Accuracy:  0.878, Validation Accuracy:  0.901, Loss:  0.118\n",
      "Epoch   5 Batch  158/269 - Train Accuracy:  0.895, Validation Accuracy:  0.900, Loss:  0.122\n",
      "Epoch   5 Batch  159/269 - Train Accuracy:  0.895, Validation Accuracy:  0.907, Loss:  0.123\n",
      "Epoch   5 Batch  160/269 - Train Accuracy:  0.886, Validation Accuracy:  0.906, Loss:  0.121\n",
      "Epoch   5 Batch  161/269 - Train Accuracy:  0.899, Validation Accuracy:  0.906, Loss:  0.116\n",
      "Epoch   5 Batch  162/269 - Train Accuracy:  0.907, Validation Accuracy:  0.906, Loss:  0.118\n",
      "Epoch   5 Batch  163/269 - Train Accuracy:  0.909, Validation Accuracy:  0.907, Loss:  0.118\n",
      "Epoch   5 Batch  164/269 - Train Accuracy:  0.905, Validation Accuracy:  0.909, Loss:  0.119\n",
      "Epoch   5 Batch  165/269 - Train Accuracy:  0.898, Validation Accuracy:  0.908, Loss:  0.121\n",
      "Epoch   5 Batch  166/269 - Train Accuracy:  0.896, Validation Accuracy:  0.909, Loss:  0.114\n",
      "Epoch   5 Batch  167/269 - Train Accuracy:  0.904, Validation Accuracy:  0.908, Loss:  0.120\n",
      "Epoch   5 Batch  168/269 - Train Accuracy:  0.897, Validation Accuracy:  0.910, Loss:  0.123\n",
      "Epoch   5 Batch  169/269 - Train Accuracy:  0.879, Validation Accuracy:  0.908, Loss:  0.121\n",
      "Epoch   5 Batch  170/269 - Train Accuracy:  0.893, Validation Accuracy:  0.907, Loss:  0.117\n",
      "Epoch   5 Batch  171/269 - Train Accuracy:  0.909, Validation Accuracy:  0.903, Loss:  0.123\n",
      "Epoch   5 Batch  172/269 - Train Accuracy:  0.881, Validation Accuracy:  0.903, Loss:  0.133\n",
      "Epoch   5 Batch  173/269 - Train Accuracy:  0.892, Validation Accuracy:  0.901, Loss:  0.114\n",
      "Epoch   5 Batch  174/269 - Train Accuracy:  0.896, Validation Accuracy:  0.894, Loss:  0.116\n",
      "Epoch   5 Batch  175/269 - Train Accuracy:  0.875, Validation Accuracy:  0.892, Loss:  0.137\n",
      "Epoch   5 Batch  176/269 - Train Accuracy:  0.872, Validation Accuracy:  0.898, Loss:  0.129\n",
      "Epoch   5 Batch  177/269 - Train Accuracy:  0.894, Validation Accuracy:  0.900, Loss:  0.119\n",
      "Epoch   5 Batch  178/269 - Train Accuracy:  0.892, Validation Accuracy:  0.903, Loss:  0.114\n",
      "Epoch   5 Batch  179/269 - Train Accuracy:  0.889, Validation Accuracy:  0.907, Loss:  0.120\n",
      "Epoch   5 Batch  180/269 - Train Accuracy:  0.907, Validation Accuracy:  0.906, Loss:  0.117\n",
      "Epoch   5 Batch  181/269 - Train Accuracy:  0.883, Validation Accuracy:  0.905, Loss:  0.127\n",
      "Epoch   5 Batch  182/269 - Train Accuracy:  0.896, Validation Accuracy:  0.905, Loss:  0.115\n",
      "Epoch   5 Batch  183/269 - Train Accuracy:  0.910, Validation Accuracy:  0.906, Loss:  0.101\n",
      "Epoch   5 Batch  184/269 - Train Accuracy:  0.900, Validation Accuracy:  0.911, Loss:  0.120\n",
      "Epoch   5 Batch  185/269 - Train Accuracy:  0.898, Validation Accuracy:  0.913, Loss:  0.120\n",
      "Epoch   5 Batch  186/269 - Train Accuracy:  0.891, Validation Accuracy:  0.913, Loss:  0.111\n",
      "Epoch   5 Batch  187/269 - Train Accuracy:  0.890, Validation Accuracy:  0.912, Loss:  0.115\n",
      "Epoch   5 Batch  188/269 - Train Accuracy:  0.908, Validation Accuracy:  0.912, Loss:  0.116\n",
      "Epoch   5 Batch  189/269 - Train Accuracy:  0.913, Validation Accuracy:  0.911, Loss:  0.111\n",
      "Epoch   5 Batch  190/269 - Train Accuracy:  0.897, Validation Accuracy:  0.917, Loss:  0.112\n",
      "Epoch   5 Batch  191/269 - Train Accuracy:  0.899, Validation Accuracy:  0.910, Loss:  0.111\n",
      "Epoch   5 Batch  192/269 - Train Accuracy:  0.907, Validation Accuracy:  0.912, Loss:  0.116\n",
      "Epoch   5 Batch  193/269 - Train Accuracy:  0.905, Validation Accuracy:  0.908, Loss:  0.109\n",
      "Epoch   5 Batch  194/269 - Train Accuracy:  0.900, Validation Accuracy:  0.907, Loss:  0.114\n",
      "Epoch   5 Batch  195/269 - Train Accuracy:  0.889, Validation Accuracy:  0.904, Loss:  0.114\n",
      "Epoch   5 Batch  196/269 - Train Accuracy:  0.894, Validation Accuracy:  0.904, Loss:  0.114\n",
      "Epoch   5 Batch  197/269 - Train Accuracy:  0.899, Validation Accuracy:  0.899, Loss:  0.120\n",
      "Epoch   5 Batch  198/269 - Train Accuracy:  0.895, Validation Accuracy:  0.905, Loss:  0.120\n",
      "Epoch   5 Batch  199/269 - Train Accuracy:  0.891, Validation Accuracy:  0.909, Loss:  0.119\n",
      "Epoch   5 Batch  200/269 - Train Accuracy:  0.900, Validation Accuracy:  0.911, Loss:  0.120\n",
      "Epoch   5 Batch  201/269 - Train Accuracy:  0.888, Validation Accuracy:  0.912, Loss:  0.111\n",
      "Epoch   5 Batch  202/269 - Train Accuracy:  0.902, Validation Accuracy:  0.912, Loss:  0.118\n",
      "Epoch   5 Batch  203/269 - Train Accuracy:  0.903, Validation Accuracy:  0.909, Loss:  0.120\n",
      "Epoch   5 Batch  204/269 - Train Accuracy:  0.898, Validation Accuracy:  0.904, Loss:  0.120\n",
      "Epoch   5 Batch  205/269 - Train Accuracy:  0.891, Validation Accuracy:  0.906, Loss:  0.111\n",
      "Epoch   5 Batch  206/269 - Train Accuracy:  0.879, Validation Accuracy:  0.903, Loss:  0.118\n",
      "Epoch   5 Batch  207/269 - Train Accuracy:  0.896, Validation Accuracy:  0.905, Loss:  0.114\n",
      "Epoch   5 Batch  208/269 - Train Accuracy:  0.900, Validation Accuracy:  0.911, Loss:  0.116\n",
      "Epoch   5 Batch  209/269 - Train Accuracy:  0.913, Validation Accuracy:  0.906, Loss:  0.109\n",
      "Epoch   5 Batch  210/269 - Train Accuracy:  0.902, Validation Accuracy:  0.903, Loss:  0.104\n",
      "Epoch   5 Batch  211/269 - Train Accuracy:  0.908, Validation Accuracy:  0.908, Loss:  0.114\n",
      "Epoch   5 Batch  212/269 - Train Accuracy:  0.896, Validation Accuracy:  0.910, Loss:  0.117\n",
      "Epoch   5 Batch  213/269 - Train Accuracy:  0.892, Validation Accuracy:  0.909, Loss:  0.113\n",
      "Epoch   5 Batch  214/269 - Train Accuracy:  0.891, Validation Accuracy:  0.908, Loss:  0.120\n",
      "Epoch   5 Batch  215/269 - Train Accuracy:  0.907, Validation Accuracy:  0.909, Loss:  0.107\n",
      "Epoch   5 Batch  216/269 - Train Accuracy:  0.884, Validation Accuracy:  0.905, Loss:  0.129\n",
      "Epoch   5 Batch  217/269 - Train Accuracy:  0.887, Validation Accuracy:  0.909, Loss:  0.120\n",
      "Epoch   5 Batch  218/269 - Train Accuracy:  0.911, Validation Accuracy:  0.906, Loss:  0.110\n",
      "Epoch   5 Batch  219/269 - Train Accuracy:  0.905, Validation Accuracy:  0.911, Loss:  0.117\n",
      "Epoch   5 Batch  220/269 - Train Accuracy:  0.902, Validation Accuracy:  0.910, Loss:  0.107\n",
      "Epoch   5 Batch  221/269 - Train Accuracy:  0.906, Validation Accuracy:  0.910, Loss:  0.111\n",
      "Epoch   5 Batch  222/269 - Train Accuracy:  0.911, Validation Accuracy:  0.905, Loss:  0.099\n",
      "Epoch   5 Batch  223/269 - Train Accuracy:  0.891, Validation Accuracy:  0.901, Loss:  0.107\n",
      "Epoch   5 Batch  224/269 - Train Accuracy:  0.904, Validation Accuracy:  0.908, Loss:  0.120\n",
      "Epoch   5 Batch  225/269 - Train Accuracy:  0.889, Validation Accuracy:  0.907, Loss:  0.103\n",
      "Epoch   5 Batch  226/269 - Train Accuracy:  0.900, Validation Accuracy:  0.909, Loss:  0.119\n",
      "Epoch   5 Batch  227/269 - Train Accuracy:  0.919, Validation Accuracy:  0.909, Loss:  0.108\n",
      "Epoch   5 Batch  228/269 - Train Accuracy:  0.897, Validation Accuracy:  0.900, Loss:  0.103\n",
      "Epoch   5 Batch  229/269 - Train Accuracy:  0.895, Validation Accuracy:  0.907, Loss:  0.105\n",
      "Epoch   5 Batch  230/269 - Train Accuracy:  0.905, Validation Accuracy:  0.913, Loss:  0.106\n",
      "Epoch   5 Batch  231/269 - Train Accuracy:  0.889, Validation Accuracy:  0.914, Loss:  0.113\n",
      "Epoch   5 Batch  232/269 - Train Accuracy:  0.889, Validation Accuracy:  0.909, Loss:  0.112\n",
      "Epoch   5 Batch  233/269 - Train Accuracy:  0.906, Validation Accuracy:  0.908, Loss:  0.115\n",
      "Epoch   5 Batch  234/269 - Train Accuracy:  0.899, Validation Accuracy:  0.908, Loss:  0.110\n",
      "Epoch   5 Batch  235/269 - Train Accuracy:  0.929, Validation Accuracy:  0.911, Loss:  0.096\n",
      "Epoch   5 Batch  236/269 - Train Accuracy:  0.898, Validation Accuracy:  0.911, Loss:  0.099\n",
      "Epoch   5 Batch  237/269 - Train Accuracy:  0.904, Validation Accuracy:  0.911, Loss:  0.105\n",
      "Epoch   5 Batch  238/269 - Train Accuracy:  0.909, Validation Accuracy:  0.910, Loss:  0.104\n",
      "Epoch   5 Batch  239/269 - Train Accuracy:  0.906, Validation Accuracy:  0.909, Loss:  0.102\n",
      "Epoch   5 Batch  240/269 - Train Accuracy:  0.904, Validation Accuracy:  0.912, Loss:  0.100\n",
      "Epoch   5 Batch  241/269 - Train Accuracy:  0.894, Validation Accuracy:  0.911, Loss:  0.115\n",
      "Epoch   5 Batch  242/269 - Train Accuracy:  0.909, Validation Accuracy:  0.911, Loss:  0.104\n",
      "Epoch   5 Batch  243/269 - Train Accuracy:  0.912, Validation Accuracy:  0.910, Loss:  0.097\n",
      "Epoch   5 Batch  244/269 - Train Accuracy:  0.898, Validation Accuracy:  0.913, Loss:  0.107\n",
      "Epoch   5 Batch  245/269 - Train Accuracy:  0.889, Validation Accuracy:  0.910, Loss:  0.109\n",
      "Epoch   5 Batch  246/269 - Train Accuracy:  0.906, Validation Accuracy:  0.911, Loss:  0.104\n",
      "Epoch   5 Batch  247/269 - Train Accuracy:  0.911, Validation Accuracy:  0.911, Loss:  0.107\n",
      "Epoch   5 Batch  248/269 - Train Accuracy:  0.905, Validation Accuracy:  0.910, Loss:  0.104\n",
      "Epoch   5 Batch  249/269 - Train Accuracy:  0.904, Validation Accuracy:  0.910, Loss:  0.099\n",
      "Epoch   5 Batch  250/269 - Train Accuracy:  0.923, Validation Accuracy:  0.910, Loss:  0.103\n",
      "Epoch   5 Batch  251/269 - Train Accuracy:  0.928, Validation Accuracy:  0.913, Loss:  0.095\n",
      "Epoch   5 Batch  252/269 - Train Accuracy:  0.914, Validation Accuracy:  0.914, Loss:  0.095\n",
      "Epoch   5 Batch  253/269 - Train Accuracy:  0.895, Validation Accuracy:  0.911, Loss:  0.107\n",
      "Epoch   5 Batch  254/269 - Train Accuracy:  0.895, Validation Accuracy:  0.909, Loss:  0.097\n",
      "Epoch   5 Batch  255/269 - Train Accuracy:  0.909, Validation Accuracy:  0.909, Loss:  0.101\n",
      "Epoch   5 Batch  256/269 - Train Accuracy:  0.898, Validation Accuracy:  0.913, Loss:  0.102\n",
      "Epoch   5 Batch  257/269 - Train Accuracy:  0.887, Validation Accuracy:  0.911, Loss:  0.109\n",
      "Epoch   5 Batch  258/269 - Train Accuracy:  0.901, Validation Accuracy:  0.909, Loss:  0.099\n",
      "Epoch   5 Batch  259/269 - Train Accuracy:  0.907, Validation Accuracy:  0.910, Loss:  0.103\n",
      "Epoch   5 Batch  260/269 - Train Accuracy:  0.899, Validation Accuracy:  0.908, Loss:  0.106\n",
      "Epoch   5 Batch  261/269 - Train Accuracy:  0.914, Validation Accuracy:  0.914, Loss:  0.102\n",
      "Epoch   5 Batch  262/269 - Train Accuracy:  0.910, Validation Accuracy:  0.912, Loss:  0.098\n",
      "Epoch   5 Batch  263/269 - Train Accuracy:  0.909, Validation Accuracy:  0.911, Loss:  0.105\n",
      "Epoch   5 Batch  264/269 - Train Accuracy:  0.877, Validation Accuracy:  0.917, Loss:  0.110\n",
      "Epoch   5 Batch  265/269 - Train Accuracy:  0.908, Validation Accuracy:  0.915, Loss:  0.100\n",
      "Epoch   5 Batch  266/269 - Train Accuracy:  0.915, Validation Accuracy:  0.918, Loss:  0.096\n",
      "Epoch   5 Batch  267/269 - Train Accuracy:  0.914, Validation Accuracy:  0.921, Loss:  0.112\n",
      "Model Trained and Saved\n"
     ]
    }
   ],
   "source": [
    "\"\"\"\n",
    "DON'T MODIFY ANYTHING IN THIS CELL\n",
    "\"\"\"\n",
    "import time\n",
    "\n",
    "def get_accuracy(target, logits):\n",
    "    \"\"\"\n",
    "    Calculate accuracy\n",
    "    \"\"\"\n",
    "    max_seq = max(target.shape[1], logits.shape[1])\n",
    "    if max_seq - target.shape[1]:\n",
    "        target = np.pad(\n",
    "            target,\n",
    "            [(0,0),(0,max_seq - target.shape[1])],\n",
    "            'constant')\n",
    "    if max_seq - logits.shape[1]:\n",
    "        logits = np.pad(\n",
    "            logits,\n",
    "            [(0,0),(0,max_seq - logits.shape[1]), (0,0)],\n",
    "            'constant')\n",
    "\n",
    "    return np.mean(np.equal(target, np.argmax(logits, 2)))\n",
    "\n",
    "train_source = source_int_text[batch_size:]\n",
    "train_target = target_int_text[batch_size:]\n",
    "\n",
    "valid_source = helper.pad_sentence_batch(source_int_text[:batch_size])\n",
    "valid_target = helper.pad_sentence_batch(target_int_text[:batch_size])\n",
    "\n",
    "with tf.Session(graph=train_graph) as sess:\n",
    "    sess.run(tf.global_variables_initializer())\n",
    "\n",
    "    for epoch_i in range(epochs):\n",
    "        for batch_i, (source_batch, target_batch) in enumerate(\n",
    "                helper.batch_data(train_source, train_target, batch_size)):\n",
    "            start_time = time.time()\n",
    "            \n",
    "            _, loss = sess.run(\n",
    "                [train_op, cost],\n",
    "                {input_data: source_batch,\n",
    "                 targets: target_batch,\n",
    "                 lr: learning_rate,\n",
    "                 sequence_length: target_batch.shape[1],\n",
    "                 keep_prob: keep_probability})\n",
    "            \n",
    "            batch_train_logits = sess.run(\n",
    "                inference_logits,\n",
    "                {input_data: source_batch, keep_prob: 1.0})\n",
    "            batch_valid_logits = sess.run(\n",
    "                inference_logits,\n",
    "                {input_data: valid_source, keep_prob: 1.0})\n",
    "                \n",
    "            train_acc = get_accuracy(target_batch, batch_train_logits)\n",
    "            valid_acc = get_accuracy(np.array(valid_target), batch_valid_logits)\n",
    "            end_time = time.time()\n",
    "            if epoch_i % 5==0:\n",
    "                print('Epoch {:>3} Batch {:>4}/{} - Train Accuracy: {:>6.3f}, Validation Accuracy: {:>6.3f}, Loss: {:>6.3f}'.format(epoch_i, batch_i, len(source_int_text) // batch_size, train_acc, valid_acc, loss))\n",
    "\n",
    "    # Save Model\n",
    "    saver = tf.train.Saver()\n",
    "    saver.save(sess, save_path)\n",
    "    print('Model Trained and Saved')"
   ]
  },
  {
   "cell_type": "markdown",
   "metadata": {
    "deletable": true,
    "editable": true
   },
   "source": [
    "### Save Parameters\n",
    "Save the `batch_size` and `save_path` parameters for inference."
   ]
  },
  {
   "cell_type": "code",
   "execution_count": 17,
   "metadata": {
    "collapsed": false,
    "deletable": true,
    "editable": true
   },
   "outputs": [],
   "source": [
    "\"\"\"\n",
    "DON'T MODIFY ANYTHING IN THIS CELL\n",
    "\"\"\"\n",
    "# Save parameters for checkpoint\n",
    "helper.save_params(save_path)"
   ]
  },
  {
   "cell_type": "markdown",
   "metadata": {
    "deletable": true,
    "editable": true
   },
   "source": [
    "# Checkpoint"
   ]
  },
  {
   "cell_type": "code",
   "execution_count": 18,
   "metadata": {
    "collapsed": false,
    "deletable": true,
    "editable": true
   },
   "outputs": [],
   "source": [
    "\"\"\"\n",
    "DON'T MODIFY ANYTHING IN THIS CELL\n",
    "\"\"\"\n",
    "import tensorflow as tf\n",
    "import numpy as np\n",
    "import helper\n",
    "import problem_unittests as tests\n",
    "\n",
    "_, (source_vocab_to_int, target_vocab_to_int), (source_int_to_vocab, target_int_to_vocab) = helper.load_preprocess()\n",
    "load_path = helper.load_params()"
   ]
  },
  {
   "cell_type": "markdown",
   "metadata": {
    "deletable": true,
    "editable": true
   },
   "source": [
    "## Sentence to Sequence\n",
    "To feed a sentence into the model for translation, you first need to preprocess it.  Implement the function `sentence_to_seq()` to preprocess new sentences.\n",
    "\n",
    "- Convert the sentence to lowercase\n",
    "- Convert words into ids using `vocab_to_int`\n",
    "- Convert words not in the vocabulary, to the `<UNK>` word id."
   ]
  },
  {
   "cell_type": "code",
   "execution_count": 19,
   "metadata": {
    "collapsed": false,
    "deletable": true,
    "editable": true
   },
   "outputs": [
    {
     "name": "stdout",
     "output_type": "stream",
     "text": [
      "Tests Passed\n"
     ]
    }
   ],
   "source": [
    "def sentence_to_seq(sentence, vocab_to_int):\n",
    "    \"\"\"\n",
    "    Convert a sentence to a sequence of ids\n",
    "    :param sentence: String\n",
    "    :param vocab_to_int: Dictionary to go from the words to an id\n",
    "    :return: List of word ids\n",
    "    \"\"\"\n",
    "    # TODO: Implement Function\n",
    "    return [vocab_to_int.get(word.lower(), vocab_to_int['<UNK>']) for word in sentence.split()]\n",
    "\n",
    "\n",
    "\"\"\"\n",
    "DON'T MODIFY ANYTHING IN THIS CELL THAT IS BELOW THIS LINE\n",
    "\"\"\"\n",
    "tests.test_sentence_to_seq(sentence_to_seq)"
   ]
  },
  {
   "cell_type": "markdown",
   "metadata": {
    "deletable": true,
    "editable": true
   },
   "source": [
    "## Translate\n",
    "This will translate `translate_sentence` from English to French."
   ]
  },
  {
   "cell_type": "code",
   "execution_count": 20,
   "metadata": {
    "collapsed": false,
    "deletable": true,
    "editable": true
   },
   "outputs": [
    {
     "name": "stdout",
     "output_type": "stream",
     "text": [
      "Input\n",
      "  Word Ids:      [166, 30, 63, 226, 13, 37, 201]\n",
      "  English Words: ['he', 'saw', 'a', 'old', 'yellow', 'truck', '.']\n",
      "\n",
      "Prediction\n",
      "  Word Ids:      [187, 190, 106, 291, 53, 278, 115, 152, 1]\n",
      "  French Words: ['il', 'a', 'vu', 'un', 'vieux', 'camion', 'jaune', '.', '<EOS>']\n"
     ]
    }
   ],
   "source": [
    "translate_sentence = 'he saw a old yellow truck .'\n",
    "\n",
    "\n",
    "\"\"\"\n",
    "DON'T MODIFY ANYTHING IN THIS CELL\n",
    "\"\"\"\n",
    "translate_sentence = sentence_to_seq(translate_sentence, source_vocab_to_int)\n",
    "\n",
    "loaded_graph = tf.Graph()\n",
    "with tf.Session(graph=loaded_graph) as sess:\n",
    "    # Load saved model\n",
    "    loader = tf.train.import_meta_graph(load_path + '.meta')\n",
    "    loader.restore(sess, load_path)\n",
    "\n",
    "    input_data = loaded_graph.get_tensor_by_name('input:0')\n",
    "    logits = loaded_graph.get_tensor_by_name('logits:0')\n",
    "    keep_prob = loaded_graph.get_tensor_by_name('keep_prob:0')\n",
    "\n",
    "    translate_logits = sess.run(logits, {input_data: [translate_sentence], keep_prob: 1.0})[0]\n",
    "\n",
    "print('Input')\n",
    "print('  Word Ids:      {}'.format([i for i in translate_sentence]))\n",
    "print('  English Words: {}'.format([source_int_to_vocab[i] for i in translate_sentence]))\n",
    "\n",
    "print('\\nPrediction')\n",
    "print('  Word Ids:      {}'.format([i for i in np.argmax(translate_logits, 1)]))\n",
    "print('  French Words: {}'.format([target_int_to_vocab[i] for i in np.argmax(translate_logits, 1)]))"
   ]
  },
  {
   "cell_type": "markdown",
   "metadata": {},
   "source": [
    "#### Google's translation : he saw a old yellow truck - il a vu un vieux camion jaune\n",
    "\n",
    "\n",
    "\n",
    "\n"
   ]
  },
  {
   "cell_type": "markdown",
   "metadata": {
    "deletable": true,
    "editable": true
   },
   "source": [
    "Since the dataset you're using only has a vocabulary of 227 English words of the thousands that you use, you're only going to see good results using these words.  Additionally, the translations in this data set were made by Google translate, so the translations themselves aren't particularly good. \n",
    "\n",
    "[WMT10 French-English corpus](http://www.statmt.org/wmt10/training-giga-fren.tar).  This dataset has more vocabulary and richer in topics discussed.  However, this will take you days to train. \n",
    "\n",
    "GPU - School\n"
   ]
  },
  {
   "cell_type": "code",
   "execution_count": null,
   "metadata": {
    "collapsed": true
   },
   "outputs": [],
   "source": []
  },
  {
   "cell_type": "code",
   "execution_count": null,
   "metadata": {
    "collapsed": true
   },
   "outputs": [],
   "source": []
  }
 ],
 "metadata": {
  "anaconda-cloud": {},
  "kernelspec": {
   "display_name": "Python [conda env:tensorflow1.0-cpu]",
   "language": "python",
   "name": "conda-env-tensorflow1.0-cpu-py"
  },
  "language_info": {
   "codemirror_mode": {
    "name": "ipython",
    "version": 3
   },
   "file_extension": ".py",
   "mimetype": "text/x-python",
   "name": "python",
   "nbconvert_exporter": "python",
   "pygments_lexer": "ipython3",
   "version": "3.5.5"
  }
 },
 "nbformat": 4,
 "nbformat_minor": 0
}
